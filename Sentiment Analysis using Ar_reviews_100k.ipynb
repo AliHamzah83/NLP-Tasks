{
 "cells": [
  {
   "cell_type": "code",
   "execution_count": 1,
   "id": "6af92e58",
   "metadata": {},
   "outputs": [
    {
     "name": "stderr",
     "output_type": "stream",
     "text": [
      "[nltk_data] Downloading package stopwords to\n",
      "[nltk_data]     C:\\Users\\Allawi\\AppData\\Roaming\\nltk_data...\n",
      "[nltk_data]   Package stopwords is already up-to-date!\n"
     ]
    }
   ],
   "source": [
    "import pandas as pd\n",
    "#pd.options.display.max_rows = 20000\n",
    "import numpy as np\n",
    "import seaborn as sns\n",
    "import matplotlib.pyplot as plt\n",
    "from termcolor import colored\n",
    "import gensim \n",
    "import nltk\n",
    "import re , string #emoji, Stemmer, functools, operator\n",
    "#import re , emoji, Stemmer, functools, operator, string\n",
    "nltk.download('stopwords')\n",
    "from nltk.corpus import stopwords\n",
    "stop  = stopwords.words('arabic')\n",
    "from nltk.corpus import stopwords\n",
    "from nltk.tokenize import word_tokenize\n",
    "from nltk.stem import PorterStemmer \n",
    "from nltk.stem import WordNetLemmatizer\n",
    "from nltk.corpus import stopwords\n",
    "from sklearn.preprocessing import MinMaxScaler ,MaxAbsScaler\n",
    "from sklearn.model_selection import train_test_split , GridSearchCV,RandomizedSearchCV \n",
    "from sklearn.feature_extraction.text import TfidfVectorizer,TfidfTransformer\n",
    "from sklearn.feature_extraction.text import CountVectorizer\n",
    "from sklearn.pipeline import make_pipeline,Pipeline\n",
    "from sklearn.model_selection import train_test_split,GridSearchCV\n",
    "from sklearn.naive_bayes import MultinomialNB,BernoulliNB,GaussianNB\n",
    "from sklearn.linear_model import LogisticRegression\n",
    "from sklearn.neighbors import KNeighborsClassifier\n",
    "from sklearn.ensemble import RandomForestClassifier\n",
    "from sklearn.svm import LinearSVC,SVC\n",
    "from sklearn.tree import DecisionTreeClassifier\n",
    "from sklearn import metrics\n",
    "from sklearn.metrics import precision_score\n",
    "from sklearn.metrics import accuracy_score\n",
    "from sklearn.metrics import classification_report\n",
    "from sklearn import model_selection"
   ]
  },
  {
   "cell_type": "code",
   "execution_count": 2,
   "id": "fd709228",
   "metadata": {},
   "outputs": [
    {
     "data": {
      "text/html": [
       "<div>\n",
       "<style scoped>\n",
       "    .dataframe tbody tr th:only-of-type {\n",
       "        vertical-align: middle;\n",
       "    }\n",
       "\n",
       "    .dataframe tbody tr th {\n",
       "        vertical-align: top;\n",
       "    }\n",
       "\n",
       "    .dataframe thead th {\n",
       "        text-align: right;\n",
       "    }\n",
       "</style>\n",
       "<table border=\"1\" class=\"dataframe\">\n",
       "  <thead>\n",
       "    <tr style=\"text-align: right;\">\n",
       "      <th></th>\n",
       "      <th>label</th>\n",
       "      <th>text</th>\n",
       "    </tr>\n",
       "  </thead>\n",
       "  <tbody>\n",
       "    <tr>\n",
       "      <th>0</th>\n",
       "      <td>Positive</td>\n",
       "      <td>ممتاز نوعا ما . النظافة والموقع والتجهيز والشا...</td>\n",
       "    </tr>\n",
       "    <tr>\n",
       "      <th>1</th>\n",
       "      <td>Positive</td>\n",
       "      <td>أحد أسباب نجاح الإمارات أن كل شخص في هذه الدول...</td>\n",
       "    </tr>\n",
       "    <tr>\n",
       "      <th>2</th>\n",
       "      <td>Positive</td>\n",
       "      <td>هادفة .. وقوية. تنقلك من صخب شوارع القاهرة الى...</td>\n",
       "    </tr>\n",
       "    <tr>\n",
       "      <th>3</th>\n",
       "      <td>Positive</td>\n",
       "      <td>خلصنا .. مبدئيا اللي مستني ابهار زي الفيل الاز...</td>\n",
       "    </tr>\n",
       "    <tr>\n",
       "      <th>4</th>\n",
       "      <td>Positive</td>\n",
       "      <td>ياسات جلوريا جزء لا يتجزأ من دبي . فندق متكامل...</td>\n",
       "    </tr>\n",
       "    <tr>\n",
       "      <th>...</th>\n",
       "      <td>...</td>\n",
       "      <td>...</td>\n",
       "    </tr>\n",
       "    <tr>\n",
       "      <th>99994</th>\n",
       "      <td>Negative</td>\n",
       "      <td>معرفش ليه كنت عاوزة أكملها وهي مش عاجباني من ا...</td>\n",
       "    </tr>\n",
       "    <tr>\n",
       "      <th>99995</th>\n",
       "      <td>Negative</td>\n",
       "      <td>لا يستحق ان يكون في بوكنق لانه سيئ . لا شي. لا...</td>\n",
       "    </tr>\n",
       "    <tr>\n",
       "      <th>99996</th>\n",
       "      <td>Negative</td>\n",
       "      <td>كتاب ضعيف جدا ولم استمتع به. فى كل قصه سرد لحا...</td>\n",
       "    </tr>\n",
       "    <tr>\n",
       "      <th>99997</th>\n",
       "      <td>Negative</td>\n",
       "      <td>مملة جدا. محمد حسن علوان فنان بالكلمات، والوصف...</td>\n",
       "    </tr>\n",
       "    <tr>\n",
       "      <th>99998</th>\n",
       "      <td>Negative</td>\n",
       "      <td>لن ارجع إليه مرة اخرى . قربه من البحر. المكان ...</td>\n",
       "    </tr>\n",
       "  </tbody>\n",
       "</table>\n",
       "<p>99999 rows × 2 columns</p>\n",
       "</div>"
      ],
      "text/plain": [
       "          label                                               text\n",
       "0      Positive  ممتاز نوعا ما . النظافة والموقع والتجهيز والشا...\n",
       "1      Positive  أحد أسباب نجاح الإمارات أن كل شخص في هذه الدول...\n",
       "2      Positive  هادفة .. وقوية. تنقلك من صخب شوارع القاهرة الى...\n",
       "3      Positive  خلصنا .. مبدئيا اللي مستني ابهار زي الفيل الاز...\n",
       "4      Positive  ياسات جلوريا جزء لا يتجزأ من دبي . فندق متكامل...\n",
       "...         ...                                                ...\n",
       "99994  Negative  معرفش ليه كنت عاوزة أكملها وهي مش عاجباني من ا...\n",
       "99995  Negative  لا يستحق ان يكون في بوكنق لانه سيئ . لا شي. لا...\n",
       "99996  Negative  كتاب ضعيف جدا ولم استمتع به. فى كل قصه سرد لحا...\n",
       "99997  Negative  مملة جدا. محمد حسن علوان فنان بالكلمات، والوصف...\n",
       "99998  Negative  لن ارجع إليه مرة اخرى . قربه من البحر. المكان ...\n",
       "\n",
       "[99999 rows x 2 columns]"
      ]
     },
     "execution_count": 2,
     "metadata": {},
     "output_type": "execute_result"
    }
   ],
   "source": [
    "#Load Data\n",
    "DATA_PATH = \"../Ali Hamzah/allawi/AA/ar_reviews_100k.tsv\"\n",
    "df = pd.read_csv (DATA_PATH,sep='\\t')\n",
    "df"
   ]
  },
  {
   "cell_type": "code",
   "execution_count": 3,
   "id": "1999731a",
   "metadata": {},
   "outputs": [
    {
     "data": {
      "text/plain": [
       "<AxesSubplot:xlabel='label', ylabel='count'>"
      ]
     },
     "execution_count": 3,
     "metadata": {},
     "output_type": "execute_result"
    },
    {
     "data": {
      "image/png": "[encoded data removed]",
      "text/plain": [
       "<Figure size 432x288 with 1 Axes>"
      ]
     },
     "metadata": {
      "needs_background": "light"
     },
     "output_type": "display_data"
    }
   ],
   "source": [
    "# Exploratory Data Analysis\n",
    "import seaborn as sns\n",
    "sns.countplot(x='label', data=df)"
   ]
  },
  {
   "cell_type": "code",
   "execution_count": 4,
   "id": "037de7cc",
   "metadata": {},
   "outputs": [
    {
     "data": {
      "text/html": [
       "<div>\n",
       "<style scoped>\n",
       "    .dataframe tbody tr th:only-of-type {\n",
       "        vertical-align: middle;\n",
       "    }\n",
       "\n",
       "    .dataframe tbody tr th {\n",
       "        vertical-align: top;\n",
       "    }\n",
       "\n",
       "    .dataframe thead th {\n",
       "        text-align: right;\n",
       "    }\n",
       "</style>\n",
       "<table border=\"1\" class=\"dataframe\">\n",
       "  <thead>\n",
       "    <tr style=\"text-align: right;\">\n",
       "      <th></th>\n",
       "      <th>label</th>\n",
       "      <th>text</th>\n",
       "    </tr>\n",
       "  </thead>\n",
       "  <tbody>\n",
       "    <tr>\n",
       "      <th>0</th>\n",
       "      <td>Positive</td>\n",
       "      <td>ممتاز نوعا ما . النظافة والموقع والتجهيز والشا...</td>\n",
       "    </tr>\n",
       "    <tr>\n",
       "      <th>1</th>\n",
       "      <td>Positive</td>\n",
       "      <td>أحد أسباب نجاح الإمارات أن كل شخص في هذه الدول...</td>\n",
       "    </tr>\n",
       "    <tr>\n",
       "      <th>2</th>\n",
       "      <td>Positive</td>\n",
       "      <td>هادفة .. وقوية. تنقلك من صخب شوارع القاهرة الى...</td>\n",
       "    </tr>\n",
       "    <tr>\n",
       "      <th>3</th>\n",
       "      <td>Positive</td>\n",
       "      <td>خلصنا .. مبدئيا اللي مستني ابهار زي الفيل الاز...</td>\n",
       "    </tr>\n",
       "    <tr>\n",
       "      <th>4</th>\n",
       "      <td>Positive</td>\n",
       "      <td>ياسات جلوريا جزء لا يتجزأ من دبي . فندق متكامل...</td>\n",
       "    </tr>\n",
       "  </tbody>\n",
       "</table>\n",
       "</div>"
      ],
      "text/plain": [
       "      label                                               text\n",
       "0  Positive  ممتاز نوعا ما . النظافة والموقع والتجهيز والشا...\n",
       "1  Positive  أحد أسباب نجاح الإمارات أن كل شخص في هذه الدول...\n",
       "2  Positive  هادفة .. وقوية. تنقلك من صخب شوارع القاهرة الى...\n",
       "3  Positive  خلصنا .. مبدئيا اللي مستني ابهار زي الفيل الاز...\n",
       "4  Positive  ياسات جلوريا جزء لا يتجزأ من دبي . فندق متكامل..."
      ]
     },
     "execution_count": 4,
     "metadata": {},
     "output_type": "execute_result"
    }
   ],
   "source": [
    "#Convert to Data Frame to do operations\n",
    "Data=pd.DataFrame(df)\n",
    "Data.head()"
   ]
  },
  {
   "cell_type": "code",
   "execution_count": 5,
   "id": "070bc33b",
   "metadata": {},
   "outputs": [
    {
     "name": "stdout",
     "output_type": "stream",
     "text": [
      "(66666, 2)\n"
     ]
    },
    {
     "data": {
      "text/html": [
       "<div>\n",
       "<style scoped>\n",
       "    .dataframe tbody tr th:only-of-type {\n",
       "        vertical-align: middle;\n",
       "    }\n",
       "\n",
       "    .dataframe tbody tr th {\n",
       "        vertical-align: top;\n",
       "    }\n",
       "\n",
       "    .dataframe thead th {\n",
       "        text-align: right;\n",
       "    }\n",
       "</style>\n",
       "<table border=\"1\" class=\"dataframe\">\n",
       "  <thead>\n",
       "    <tr style=\"text-align: right;\">\n",
       "      <th></th>\n",
       "      <th>label</th>\n",
       "      <th>text</th>\n",
       "    </tr>\n",
       "  </thead>\n",
       "  <tbody>\n",
       "    <tr>\n",
       "      <th>0</th>\n",
       "      <td>Positive</td>\n",
       "      <td>ممتاز نوعا ما . النظافة والموقع والتجهيز والشا...</td>\n",
       "    </tr>\n",
       "    <tr>\n",
       "      <th>1</th>\n",
       "      <td>Positive</td>\n",
       "      <td>أحد أسباب نجاح الإمارات أن كل شخص في هذه الدول...</td>\n",
       "    </tr>\n",
       "    <tr>\n",
       "      <th>2</th>\n",
       "      <td>Positive</td>\n",
       "      <td>هادفة .. وقوية. تنقلك من صخب شوارع القاهرة الى...</td>\n",
       "    </tr>\n",
       "    <tr>\n",
       "      <th>3</th>\n",
       "      <td>Positive</td>\n",
       "      <td>خلصنا .. مبدئيا اللي مستني ابهار زي الفيل الاز...</td>\n",
       "    </tr>\n",
       "    <tr>\n",
       "      <th>4</th>\n",
       "      <td>Positive</td>\n",
       "      <td>ياسات جلوريا جزء لا يتجزأ من دبي . فندق متكامل...</td>\n",
       "    </tr>\n",
       "  </tbody>\n",
       "</table>\n",
       "</div>"
      ],
      "text/plain": [
       "      label                                               text\n",
       "0  Positive  ممتاز نوعا ما . النظافة والموقع والتجهيز والشا...\n",
       "1  Positive  أحد أسباب نجاح الإمارات أن كل شخص في هذه الدول...\n",
       "2  Positive  هادفة .. وقوية. تنقلك من صخب شوارع القاهرة الى...\n",
       "3  Positive  خلصنا .. مبدئيا اللي مستني ابهار زي الفيل الاز...\n",
       "4  Positive  ياسات جلوريا جزء لا يتجزأ من دبي . فندق متكامل..."
      ]
     },
     "execution_count": 5,
     "metadata": {},
     "output_type": "execute_result"
    }
   ],
   "source": [
    "# We need neutral reviews in the dataset for this binary classification problem. \n",
    "# So, i will drop those rows from the dataset.\n",
    "Data = Data[Data['label'] != 'Mixed']\n",
    "print(Data.shape)\n",
    "Data.head(5)"
   ]
  },
  {
   "cell_type": "code",
   "execution_count": 6,
   "id": "f92e7ac9",
   "metadata": {},
   "outputs": [],
   "source": [
    "# Encoding the categorical values \n",
    "label_mapping = {\"Positive\": 1, \"Negative\":-1 }\n",
    "Data[\"label\"] = Data[\"label\"].map(label_mapping)"
   ]
  },
  {
   "cell_type": "code",
   "execution_count": 7,
   "id": "2e74967f",
   "metadata": {},
   "outputs": [
    {
     "data": {
      "text/plain": [
       "0        1\n",
       "1        1\n",
       "2        1\n",
       "3        1\n",
       "4        1\n",
       "        ..\n",
       "99994   -1\n",
       "99995   -1\n",
       "99996   -1\n",
       "99997   -1\n",
       "99998   -1\n",
       "Name: label, Length: 66666, dtype: int64"
      ]
     },
     "execution_count": 7,
     "metadata": {},
     "output_type": "execute_result"
    }
   ],
   "source": [
    "Data[\"label\"]"
   ]
  },
  {
   "cell_type": "code",
   "execution_count": 8,
   "id": "97ddf9ee",
   "metadata": {},
   "outputs": [],
   "source": [
    "# first we define a list of arabic and english punctiations that we want to get dispose of in our text\n",
    "\n",
    "punctuations = '''`÷×؛<>_()*&^%][ـ،/:\"؟.,'{}~¦+|!”…“–ـ#''' + string.punctuation\n",
    "\n",
    "# Arabic stop words with nltk\n",
    "stop_words = stopwords.words()\n",
    "\n",
    "arabic_diacritics = re.compile(\"\"\"  ّ    | # Shadda  َ    | # Fatha  ً    | # Tanwin Fath  ُ    | # Damma ٌ    | # Tanwin Damm  ِ    | # Kasra  ٍ    | # Tanwin Kasr\n",
    "                                    ْ    | # Sukun ـ     # Tatwil/Kashida \"\"\", re.VERBOSE)\n",
    "\n",
    "def Preprocess(text):\n",
    "   #remove punctuations\n",
    "    Punc_Remov = str.maketrans('', '', punctuations)\n",
    "    text = text.translate(Punc_Remov)\n",
    "    \n",
    "    # remove Tashkeel\n",
    "    Text = re.sub(arabic_diacritics, '', text)\n",
    "    \n",
    "    #remove longation\n",
    "    text = re.sub(\"[إأآا]\", \"ا\", Text)\n",
    "    text = re.sub(\"ى\", \"ي\", Text)\n",
    "    text = re.sub(\"ؤ\", \"ء\", Text)\n",
    "    text = re.sub(\"ئ\", \"ء\", Text)\n",
    "    text = re.sub(\"ة\", \"ه\", Text)\n",
    "    text = re.sub(\"گ\", \"ك\", Text)\n",
    "    \n",
    "    text = '+'.join(word for word in text.split() if word not in stop_words)\n",
    "\n",
    "    return Text\n",
    "processed_tweets = Data['text'].apply(Preprocess)"
   ]
  },
  {
   "cell_type": "code",
   "execution_count": 9,
   "id": "bce5a1ca",
   "metadata": {},
   "outputs": [],
   "source": [
    " # Also Remove Emotions & Links & Mentions & Hashtag \n",
    "processed_tweets= processed_tweets.map(lambda text: re.sub(r'[^\\u0600-\\u06ff\\u0750-\\u077f\\ufb50-\\ufbc1\\ufbd3-\\ufd3f\\ufd50-\\ufd8f\\ufd50-\\ufd8f\\ufe70-\\ufefc\\uFDF0-\\uFDFD]+', ' ', text).strip())"
   ]
  },
  {
   "cell_type": "code",
   "execution_count": 10,
   "id": "ecc04ec7",
   "metadata": {},
   "outputs": [],
   "source": [
    "#convert text to numbers and do features extraction\n",
    "Vectorizer = TfidfVectorizer(max_features=2000, min_df=5,max_df=0.7)# analyzer='word'\n",
    "#(ngram_range=(1,8),  analyzer='char' ,  max_df=0.999999999, min_df=1, sublinear_tf=True, use_idf=True, norm='l2' )\n"
   ]
  },
  {
   "cell_type": "code",
   "execution_count": 11,
   "id": "feff80a1",
   "metadata": {},
   "outputs": [],
   "source": [
    "X =Vectorizer.fit_transform(processed_tweets).toarray()\n",
    "Y = Data['label']"
   ]
  },
  {
   "cell_type": "code",
   "execution_count": 12,
   "id": "16e16605",
   "metadata": {},
   "outputs": [
    {
     "data": {
      "text/plain": [
       "0        1\n",
       "1        1\n",
       "2        1\n",
       "3        1\n",
       "4        1\n",
       "        ..\n",
       "99994   -1\n",
       "99995   -1\n",
       "99996   -1\n",
       "99997   -1\n",
       "99998   -1\n",
       "Name: label, Length: 66666, dtype: int64"
      ]
     },
     "execution_count": 12,
     "metadata": {},
     "output_type": "execute_result"
    }
   ],
   "source": [
    "Y"
   ]
  },
  {
   "cell_type": "code",
   "execution_count": 13,
   "id": "266f62e7",
   "metadata": {},
   "outputs": [],
   "source": [
    "from sklearn.model_selection import train_test_split  \n",
    "X_train, X_test, y_train, y_test = train_test_split(X,Y, test_size=0.1,random_state=4) "
   ]
  },
  {
   "cell_type": "code",
   "execution_count": 14,
   "id": "72c1e18d",
   "metadata": {},
   "outputs": [],
   "source": [
    "#clf=SVC(kernel='rbf')\n",
    "estimators = { SVC() : {'C':[0.1], 'kernel' : ['rbf'],\n",
    "                        'degree' : [3,5]},LogisticRegression:{'penalty':[2], 'C': [1]}}"
   ]
  },
  {
   "cell_type": "code",
   "execution_count": null,
   "id": "d67a8cda",
   "metadata": {},
   "outputs": [],
   "source": [
    "for clf , hyper_params in estimators.items():\n",
    "    BB  = GridSearchCV( clf, hyper_params, cv=3)\n",
    "   # rand = RandomizedSearchCV(pipe , hyper_params, random_state = 3)\n",
    "    BB.fit(X_train,y_train)\n",
    "    predics = BB.predict(X_test)\n",
    "    print(\"{} acuracy = {} % , and precision score = {} % \\n Best parameters are {} \\n\"\n",
    "          .format(str(clf).replace('()',''),round(accuracy_score(y_test, predics) *100,4),\n",
    "                  round(precision_score(y_test, predics)*100,4),BB.best_params_))\n",
    "    print (classification_report(y_test, predics,digits=3))\n",
    "    confus_Model= confusion_matrix(y_test, predics)\n",
    "    ax = sns.heatmap(confus_Model, annot=True, cmap='Blues')\n",
    "    ax.set_title(' Confusion Matrix with labels\\n\\n');\n",
    "    ax.set_xlabel('\\nPredicted Values')\n",
    "    ax.set_ylabel('Actual Values ');\n",
    "## Ticket labels - List must be in alphabetical order\n",
    "    ax.xaxis.set_ticklabels(['Negative','Positive'])\n",
    "    ax.yaxis.set_ticklabels(['Negative','Positive'])\n",
    "## Display the visualization of the Confusion Matrix.\n",
    "    plt.show()\n",
    "    "
   ]
  },
  {
   "cell_type": "code",
   "execution_count": null,
   "id": "2da460b0",
   "metadata": {},
   "outputs": [],
   "source": []
  }
 ],
 "metadata": {
  "kernelspec": {
   "display_name": "Python 3 (ipykernel)",
   "language": "python",
   "name": "python3"
  },
  "language_info": {
   "codemirror_mode": {
    "name": "ipython",
    "version": 3
   },
   "file_extension": ".py",
   "mimetype": "text/x-python",
   "name": "python",
   "nbconvert_exporter": "python",
   "pygments_lexer": "ipython3",
   "version": "3.9.12"
  }
 },
 "nbformat": 4,
 "nbformat_minor": 5
}
