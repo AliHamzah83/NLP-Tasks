{
 "cells": [
  {
   "cell_type": "code",
   "execution_count": 37,
   "id": "e7ec516d",
   "metadata": {},
   "outputs": [
    {
     "name": "stderr",
     "output_type": "stream",
     "text": [
      "[nltk_data] Downloading package stopwords to\n",
      "[nltk_data]     C:\\Users\\Allawi\\AppData\\Roaming\\nltk_data...\n",
      "[nltk_data]   Package stopwords is already up-to-date!\n"
     ]
    }
   ],
   "source": [
    "import pandas as pd\n",
    "#pd.options.display.max_rows = 20000\n",
    "import numpy as np\n",
    "import seaborn as sns\n",
    "import matplotlib.pyplot as plt\n",
    "from termcolor import colored\n",
    "import gensim \n",
    "import nltk\n",
    "import re , string #emoji, Stemmer, functools, operator\n",
    "#import re , emoji, Stemmer, functools, operator, string\n",
    "nltk.download('stopwords')\n",
    "from nltk.corpus import stopwords\n",
    "stop  = stopwords.words('arabic')\n",
    "from nltk.corpus import stopwords\n",
    "from nltk.corpus import stopwords\n",
    "from sklearn.preprocessing import MinMaxScaler ,MaxAbsScaler\n",
    "from sklearn.model_selection import train_test_split , GridSearchCV, RandomizedSearchCV \n",
    "from sklearn.feature_extraction.text import TfidfVectorizer,TfidfTransformer\n",
    "from sklearn.feature_extraction.text import CountVectorizer\n",
    "from sklearn.model_selection import train_test_split,GridSearchCV\n",
    "from sklearn.naive_bayes import MultinomialNB,BernoulliNB,GaussianNB\n",
    "from sklearn.linear_model import LogisticRegression\n",
    "from sklearn.neighbors import KNeighborsClassifier\n",
    "from sklearn.ensemble import RandomForestClassifier\n",
    "from sklearn.svm import LinearSVC,SVC\n",
    "from sklearn.tree import DecisionTreeClassifier\n",
    "from sklearn import metrics\n",
    "from sklearn.metrics import precision_score\n",
    "from sklearn.metrics import accuracy_score\n",
    "from sklearn.metrics import confusion_matrix\n",
    "from sklearn.metrics import classification_report\n",
    "from sklearn import model_selection"
   ]
  },
  {
   "cell_type": "code",
   "execution_count": 4,
   "id": "681847d6",
   "metadata": {},
   "outputs": [
    {
     "data": {
      "text/html": [
       "<div>\n",
       "<style scoped>\n",
       "    .dataframe tbody tr th:only-of-type {\n",
       "        vertical-align: middle;\n",
       "    }\n",
       "\n",
       "    .dataframe tbody tr th {\n",
       "        vertical-align: top;\n",
       "    }\n",
       "\n",
       "    .dataframe thead th {\n",
       "        text-align: right;\n",
       "    }\n",
       "</style>\n",
       "<table border=\"1\" class=\"dataframe\">\n",
       "  <thead>\n",
       "    <tr style=\"text-align: right;\">\n",
       "      <th></th>\n",
       "      <th>ID</th>\n",
       "      <th>Feed</th>\n",
       "      <th>Sentiment</th>\n",
       "    </tr>\n",
       "  </thead>\n",
       "  <tbody>\n",
       "    <tr>\n",
       "      <th>0</th>\n",
       "      <td>1</td>\n",
       "      <td>اربد فيها جامعات اكثر من عمان ... وفيها قد عم...</td>\n",
       "      <td>Positive</td>\n",
       "    </tr>\n",
       "    <tr>\n",
       "      <th>1</th>\n",
       "      <td>2</td>\n",
       "      <td>الحلو انكم بتحكوا على اساس انو الاردن ما فيه ...</td>\n",
       "      <td>Negative</td>\n",
       "    </tr>\n",
       "    <tr>\n",
       "      <th>2</th>\n",
       "      <td>3</td>\n",
       "      <td>كله رائع بجد ربنا يكرمك</td>\n",
       "      <td>Positive</td>\n",
       "    </tr>\n",
       "    <tr>\n",
       "      <th>3</th>\n",
       "      <td>4</td>\n",
       "      <td>لسانك قذر يا قمامه</td>\n",
       "      <td>Negative</td>\n",
       "    </tr>\n",
       "    <tr>\n",
       "      <th>4</th>\n",
       "      <td>5</td>\n",
       "      <td>​انا داشره وغير متزوجه ولدي علاقات مشبوه واحشش...</td>\n",
       "      <td>Negative</td>\n",
       "    </tr>\n",
       "    <tr>\n",
       "      <th>5</th>\n",
       "      <td>6</td>\n",
       "      <td>ابشرك فيه تحسن ولله الحمد باذن الله يرجع قريبا</td>\n",
       "      <td>Positive</td>\n",
       "    </tr>\n",
       "    <tr>\n",
       "      <th>6</th>\n",
       "      <td>7</td>\n",
       "      <td>ابو الشباب راعي العود ليش ماوزنه في البيت غباء</td>\n",
       "      <td>Negative</td>\n",
       "    </tr>\n",
       "    <tr>\n",
       "      <th>7</th>\n",
       "      <td>8</td>\n",
       "      <td>ابو معيتق قطع اوتار العود وقال السلام عليكم</td>\n",
       "      <td>Negative</td>\n",
       "    </tr>\n",
       "    <tr>\n",
       "      <th>8</th>\n",
       "      <td>9</td>\n",
       "      <td>اتحزن فان الله يدافع عنك والملائكه تستغفر لك و...</td>\n",
       "      <td>Positive</td>\n",
       "    </tr>\n",
       "    <tr>\n",
       "      <th>9</th>\n",
       "      <td>10</td>\n",
       "      <td>اترك ما تهوى لاجل من تخشى</td>\n",
       "      <td>Positive</td>\n",
       "    </tr>\n",
       "    <tr>\n",
       "      <th>10</th>\n",
       "      <td>11</td>\n",
       "      <td>اتصور لو ظليت ما اتعلق احسن لانه تعليقاتك مقرفه</td>\n",
       "      <td>Negative</td>\n",
       "    </tr>\n",
       "    <tr>\n",
       "      <th>11</th>\n",
       "      <td>12</td>\n",
       "      <td>اتفه على هيك برنامج عالمي</td>\n",
       "      <td>Negative</td>\n",
       "    </tr>\n",
       "    <tr>\n",
       "      <th>12</th>\n",
       "      <td>13</td>\n",
       "      <td>اتقوا الله فينا بكفي رفع اسعار الرواتب بالحضيض</td>\n",
       "      <td>Negative</td>\n",
       "    </tr>\n",
       "    <tr>\n",
       "      <th>13</th>\n",
       "      <td>14</td>\n",
       "      <td>اجتماع حواء اكيد في خرفنه</td>\n",
       "      <td>Negative</td>\n",
       "    </tr>\n",
       "    <tr>\n",
       "      <th>14</th>\n",
       "      <td>15</td>\n",
       "      <td>اجل الاخير واضح انو بيمثل وتمثيلو خام هو والا معو</td>\n",
       "      <td>Negative</td>\n",
       "    </tr>\n",
       "    <tr>\n",
       "      <th>15</th>\n",
       "      <td>16</td>\n",
       "      <td>احب الله تعالى و رسوله الكريم</td>\n",
       "      <td>Positive</td>\n",
       "    </tr>\n",
       "    <tr>\n",
       "      <th>16</th>\n",
       "      <td>17</td>\n",
       "      <td>احتمال ما يشارك الليو البايخ</td>\n",
       "      <td>Negative</td>\n",
       "    </tr>\n",
       "    <tr>\n",
       "      <th>17</th>\n",
       "      <td>18</td>\n",
       "      <td>احذفه لاني بجلس احش فيهم لمين اكفر</td>\n",
       "      <td>Negative</td>\n",
       "    </tr>\n",
       "    <tr>\n",
       "      <th>18</th>\n",
       "      <td>19</td>\n",
       "      <td>احس انه يفطر حشيش</td>\n",
       "      <td>Negative</td>\n",
       "    </tr>\n",
       "    <tr>\n",
       "      <th>19</th>\n",
       "      <td>20</td>\n",
       "      <td>احسن اظن بالله وتوكل عليه وحده</td>\n",
       "      <td>Positive</td>\n",
       "    </tr>\n",
       "  </tbody>\n",
       "</table>\n",
       "</div>"
      ],
      "text/plain": [
       "    ID                                               Feed Sentiment\n",
       "0    1   اربد فيها جامعات اكثر من عمان ... وفيها قد عم...  Positive\n",
       "1    2   الحلو انكم بتحكوا على اساس انو الاردن ما فيه ...  Negative\n",
       "2    3                            كله رائع بجد ربنا يكرمك  Positive\n",
       "3    4                                 لسانك قذر يا قمامه  Negative\n",
       "4    5  ​انا داشره وغير متزوجه ولدي علاقات مشبوه واحشش...  Negative\n",
       "5    6     ابشرك فيه تحسن ولله الحمد باذن الله يرجع قريبا  Positive\n",
       "6    7     ابو الشباب راعي العود ليش ماوزنه في البيت غباء  Negative\n",
       "7    8        ابو معيتق قطع اوتار العود وقال السلام عليكم  Negative\n",
       "8    9  اتحزن فان الله يدافع عنك والملائكه تستغفر لك و...  Positive\n",
       "9   10                          اترك ما تهوى لاجل من تخشى  Positive\n",
       "10  11    اتصور لو ظليت ما اتعلق احسن لانه تعليقاتك مقرفه  Negative\n",
       "11  12                          اتفه على هيك برنامج عالمي  Negative\n",
       "12  13     اتقوا الله فينا بكفي رفع اسعار الرواتب بالحضيض  Negative\n",
       "13  14                         اجتماع حواء اكيد في خرفنه   Negative\n",
       "14  15  اجل الاخير واضح انو بيمثل وتمثيلو خام هو والا معو  Negative\n",
       "15  16                      احب الله تعالى و رسوله الكريم  Positive\n",
       "16  17                       احتمال ما يشارك الليو البايخ  Negative\n",
       "17  18                 احذفه لاني بجلس احش فيهم لمين اكفر  Negative\n",
       "18  19                                  احس انه يفطر حشيش  Negative\n",
       "19  20                     احسن اظن بالله وتوكل عليه وحده  Positive"
      ]
     },
     "execution_count": 4,
     "metadata": {},
     "output_type": "execute_result"
    }
   ],
   "source": [
    "# loading Data\n",
    "DATA_PATH = 'AJGT.xlsx'\n",
    "df = pd.read_excel(DATA_PATH)\n",
    "df.head(20)"
   ]
  },
  {
   "cell_type": "code",
   "execution_count": 5,
   "id": "123895e1",
   "metadata": {},
   "outputs": [
    {
     "data": {
      "text/plain": [
       "<AxesSubplot:xlabel='Sentiment', ylabel='count'>"
      ]
     },
     "execution_count": 5,
     "metadata": {},
     "output_type": "execute_result"
    },
    {
     "data": {
      "image/png": "[encoded data removed]",
      "text/plain": [
       "<Figure size 432x288 with 1 Axes>"
      ]
     },
     "metadata": {
      "needs_background": "light"
     },
     "output_type": "display_data"
    }
   ],
   "source": [
    "# Data Expolaration \n",
    "import seaborn as sns\n",
    "sns.countplot(x='Sentiment', data=df)"
   ]
  },
  {
   "cell_type": "code",
   "execution_count": 6,
   "id": "3e4b2f04",
   "metadata": {},
   "outputs": [
    {
     "data": {
      "text/html": [
       "<div>\n",
       "<style scoped>\n",
       "    .dataframe tbody tr th:only-of-type {\n",
       "        vertical-align: middle;\n",
       "    }\n",
       "\n",
       "    .dataframe tbody tr th {\n",
       "        vertical-align: top;\n",
       "    }\n",
       "\n",
       "    .dataframe thead th {\n",
       "        text-align: right;\n",
       "    }\n",
       "</style>\n",
       "<table border=\"1\" class=\"dataframe\">\n",
       "  <thead>\n",
       "    <tr style=\"text-align: right;\">\n",
       "      <th></th>\n",
       "      <th>ID</th>\n",
       "      <th>Feed</th>\n",
       "      <th>Sentiment</th>\n",
       "    </tr>\n",
       "  </thead>\n",
       "  <tbody>\n",
       "    <tr>\n",
       "      <th>0</th>\n",
       "      <td>1</td>\n",
       "      <td>اربد فيها جامعات اكثر من عمان ... وفيها قد عم...</td>\n",
       "      <td>Positive</td>\n",
       "    </tr>\n",
       "    <tr>\n",
       "      <th>1</th>\n",
       "      <td>2</td>\n",
       "      <td>الحلو انكم بتحكوا على اساس انو الاردن ما فيه ...</td>\n",
       "      <td>Negative</td>\n",
       "    </tr>\n",
       "    <tr>\n",
       "      <th>2</th>\n",
       "      <td>3</td>\n",
       "      <td>كله رائع بجد ربنا يكرمك</td>\n",
       "      <td>Positive</td>\n",
       "    </tr>\n",
       "    <tr>\n",
       "      <th>3</th>\n",
       "      <td>4</td>\n",
       "      <td>لسانك قذر يا قمامه</td>\n",
       "      <td>Negative</td>\n",
       "    </tr>\n",
       "    <tr>\n",
       "      <th>4</th>\n",
       "      <td>5</td>\n",
       "      <td>​انا داشره وغير متزوجه ولدي علاقات مشبوه واحشش...</td>\n",
       "      <td>Negative</td>\n",
       "    </tr>\n",
       "  </tbody>\n",
       "</table>\n",
       "</div>"
      ],
      "text/plain": [
       "   ID                                               Feed Sentiment\n",
       "0   1   اربد فيها جامعات اكثر من عمان ... وفيها قد عم...  Positive\n",
       "1   2   الحلو انكم بتحكوا على اساس انو الاردن ما فيه ...  Negative\n",
       "2   3                            كله رائع بجد ربنا يكرمك  Positive\n",
       "3   4                                 لسانك قذر يا قمامه  Negative\n",
       "4   5  ​انا داشره وغير متزوجه ولدي علاقات مشبوه واحشش...  Negative"
      ]
     },
     "execution_count": 6,
     "metadata": {},
     "output_type": "execute_result"
    }
   ],
   "source": [
    "#Convert to Data Frame to do operations\n",
    "Data=pd.DataFrame(df)\n",
    "Data.head()"
   ]
  },
  {
   "cell_type": "code",
   "execution_count": 7,
   "id": "1b8f786f",
   "metadata": {},
   "outputs": [
    {
     "data": {
      "text/plain": [
       "0        اربد فيها جامعات اكثر من عمان ... وفيها قد عم...\n",
       "1        الحلو انكم بتحكوا على اساس انو الاردن ما فيه ...\n",
       "2                                 كله رائع بجد ربنا يكرمك\n",
       "3                                      لسانك قذر يا قمامه\n",
       "4       ​انا داشره وغير متزوجه ولدي علاقات مشبوه واحشش...\n",
       "                              ...                        \n",
       "1795                                       يلعن شرف خواتك\n",
       "1796                                       يلعنك نذل وكلب\n",
       "1797    يمتاز الاردن بتنوع السياحه فيه فتنقسم السياحه ...\n",
       "1798                            ينور عليك ويكثر من امثالك\n",
       "1799                                    يهدي الله من يشاء\n",
       "Name: Feed, Length: 1800, dtype: object"
      ]
     },
     "execution_count": 7,
     "metadata": {},
     "output_type": "execute_result"
    }
   ],
   "source": [
    "Data.Feed"
   ]
  },
  {
   "cell_type": "code",
   "execution_count": 8,
   "id": "53fac4c4",
   "metadata": {},
   "outputs": [],
   "source": [
    "# Drop ID\n",
    "Data=Data.drop('ID',axis=1)"
   ]
  },
  {
   "cell_type": "code",
   "execution_count": 9,
   "id": "d610a0ab",
   "metadata": {},
   "outputs": [],
   "source": [
    "#Rename Columns\n",
    "Data=Data.rename(columns ={'Feed':'text','Sentiment':'label'})"
   ]
  },
  {
   "cell_type": "code",
   "execution_count": 10,
   "id": "b93455bb",
   "metadata": {},
   "outputs": [],
   "source": [
    "# convert the categorical values to numeric\n",
    "label_mapping = {\"Positive\": 1, \"Negative\":-1 }\n",
    "Data[\"label\"] = Data[\"label\"].map(label_mapping)"
   ]
  },
  {
   "cell_type": "code",
   "execution_count": 11,
   "id": "b2f0727c",
   "metadata": {},
   "outputs": [
    {
     "data": {
      "text/plain": [
       "0        اربد فيها جامعات اكثر من عمان  وفيها قد عمان ...\n",
       "1        الحلو انكم بتحكوا على اساس انو الاردن ما فيه ...\n",
       "2                                 كله رائع بجد ربنا يكرمك\n",
       "3                                      لسانك قذر يا قمامه\n",
       "4       ​انا داشره وغير متزوجه ولدي علاقات مشبوه واحشش...\n",
       "                              ...                        \n",
       "1795                                       يلعن شرف خواتك\n",
       "1796                                       يلعنك نذل وكلب\n",
       "1797    يمتاز الاردن بتنوع السياحه فيه فتنقسم السياحه ...\n",
       "1798                            ينور عليك ويكثر من امثالك\n",
       "1799                                    يهدي الله من يشاء\n",
       "Name: text, Length: 1800, dtype: object"
      ]
     },
     "execution_count": 11,
     "metadata": {},
     "output_type": "execute_result"
    }
   ],
   "source": [
    "#TweetS Preprocessing \n",
    "\n",
    "\n",
    "punctuations = '''`÷×؛<>_()*&^%][ـ،/:\"؟.,'{}~¦+|!”…“–ـ#''' + string.punctuation\n",
    "\n",
    "# Arabic stop words with nltk\n",
    "stop_words = stopwords.words('arabic')\n",
    "\n",
    "Arabic_diacritics = re.compile(\"\"\"  ّ    | # Shadda  َ    | # Fatha  ً    | # Tanwin Fath  ُ    | # Damma ٌ    | # Tanwin Damm  ِ    | # Kasra  ٍ    | # Tanwin Kasr\n",
    "                                    ْ    | # Sukun ـ     # Tatwil/Kashida \"\"\", re.VERBOSE)\n",
    "\n",
    "def Cleaning  (text):\n",
    "   #remove punctuations\n",
    "    Punc_Remov = str.maketrans('', '', punctuations)\n",
    "    text = text.translate(Punc_Remov)   \n",
    "    # remove Tashkeel\n",
    "    Text = re.sub(Arabic_diacritics, '', text)\n",
    "    #Remove longation normalize_arabic letter\n",
    "    text = re.sub(\"[إأآا]\", \"ا\", Text)\n",
    "    text = re.sub(\"ى\", \"ي\", Text)\n",
    "    text = re.sub(\"ؤ\", \"ء\", Text)\n",
    "    text = re.sub(\"ئ\", \"ء\", Text)\n",
    "    text = re.sub(\"ة\", \"ه\", Text)\n",
    "    text = re.sub(\"گ\", \"ك\", Text)\n",
    "    \n",
    "    text = ''.join(word for word in text.split() if word not in stop_words)\n",
    "\n",
    "    return Text\n",
    "processed_tweets = Data['text'].apply(Cleaning)\n",
    "processed_tweets"
   ]
  },
  {
   "cell_type": "code",
   "execution_count": 12,
   "id": "e0d55ede",
   "metadata": {},
   "outputs": [],
   "source": [
    " # Also Remove any Emotions & Links & Mentions & Hashtag \n",
    "processed_tweets=processed_tweets.map(lambda text: re.sub(r'[^\\u0600-\\u06ff\\u0750-\\u077f\\ufb50-\\ufbc1\\ufbd3-\\ufd3f\\ufd50-\\ufd8f\\ufd50-\\ufd8f\\ufe70-\\ufefc\\uFDF0-\\uFDFD]+', ' ', text).strip())"
   ]
  },
  {
   "cell_type": "code",
   "execution_count": 13,
   "id": "0fdef7a3",
   "metadata": {},
   "outputs": [],
   "source": [
    "#convert text to numbers and do features extraction\n",
    "Vectorizer = TfidfVectorizer(max_features=2000, min_df=5,max_df=0.7)# analyzer='word'\n",
    "#(ngram_range=(1,8),  analyzer='char' ,  max_df=0.999999999, min_df=1, sublinear_tf=True, use_idf=True, norm='l2' )\n"
   ]
  },
  {
   "cell_type": "code",
   "execution_count": 14,
   "id": "99b39f49",
   "metadata": {},
   "outputs": [],
   "source": [
    "X =Vectorizer.fit_transform(processed_tweets).toarray()"
   ]
  },
  {
   "cell_type": "code",
   "execution_count": 15,
   "id": "6cf0dbea",
   "metadata": {},
   "outputs": [
    {
     "data": {
      "text/plain": [
       "array([[0.        , 0.        , 0.        , ..., 0.        , 0.        ,\n",
       "        0.        ],\n",
       "       [0.        , 0.        , 0.        , ..., 0.        , 0.        ,\n",
       "        0.        ],\n",
       "       [0.        , 0.        , 0.        , ..., 0.        , 0.        ,\n",
       "        0.        ],\n",
       "       ...,\n",
       "       [0.        , 0.        , 0.        , ..., 0.        , 0.        ,\n",
       "        0.        ],\n",
       "       [0.        , 0.        , 0.        , ..., 0.        , 0.        ,\n",
       "        0.        ],\n",
       "       [0.        , 0.        , 0.        , ..., 0.85170318, 0.        ,\n",
       "        0.        ]])"
      ]
     },
     "execution_count": 15,
     "metadata": {},
     "output_type": "execute_result"
    }
   ],
   "source": [
    "X"
   ]
  },
  {
   "cell_type": "code",
   "execution_count": 16,
   "id": "8ff9bf64",
   "metadata": {},
   "outputs": [],
   "source": [
    "# Assign Data Lable as Y\n",
    "Y = Data['label']"
   ]
  },
  {
   "cell_type": "code",
   "execution_count": 17,
   "id": "3a375a0a",
   "metadata": {},
   "outputs": [],
   "source": [
    "#Split Data \n",
    "from sklearn.model_selection import train_test_split  \n",
    "X_train, X_test, y_train, y_test = train_test_split(X,Y, test_size=0.33,random_state=100) \n"
   ]
  },
  {
   "cell_type": "code",
   "execution_count": 18,
   "id": "c3e71dc8",
   "metadata": {},
   "outputs": [],
   "source": [
    "#clf=SVC(kernel='rbf')\n",
    "estimators = { SVC() : {'C':[0.1, 1, 10, 100], 'kernel' : ['linear', 'poly', 'rbf', 'sigmoid'] ,\n",
    "                        'degree' : [0.1, 1, 10, 100]}, KNeighborsClassifier():{'n_neighbors': [2,4,5]}, \n",
    "               DecisionTreeClassifier():{'max_depth':[5,6,8,9], 'random_state':[40]}}\n",
    "              #LogisticRegression():{'penalty':[l1', 'l2', 'elasticnet'], 'C': [0.01, 0.1, 1, 10, 100]},\n",
    "              # RandomForestClassifier():{'rand.nEst':[10, 50, 100],'randmaxfeat':['sqrt', 'log2']}}"
   ]
  },
  {
   "cell_type": "code",
   "execution_count": 47,
   "id": "613fc6bf",
   "metadata": {},
   "outputs": [
    {
     "name": "stdout",
     "output_type": "stream",
     "text": [
      "SVC acuracy = 80.8081 % , and precision score = 83.6177 % \n",
      " Best parameters are {'C': 1, 'degree': 0.1, 'kernel': 'rbf'} \n",
      "\n",
      "              precision    recall  f1-score   support\n",
      "\n",
      "          -1      0.781     0.830     0.805       283\n",
      "           1      0.836     0.788     0.811       311\n",
      "\n",
      "    accuracy                          0.808       594\n",
      "   macro avg      0.808     0.809     0.808       594\n",
      "weighted avg      0.810     0.808     0.808       594\n",
      "\n"
     ]
    },
    {
     "data": {
      "image/png": "[encoded data removed]",
      "text/plain": [
       "<Figure size 432x288 with 2 Axes>"
      ]
     },
     "metadata": {
      "needs_background": "light"
     },
     "output_type": "display_data"
    },
    {
     "name": "stdout",
     "output_type": "stream",
     "text": [
      "KNeighborsClassifier acuracy = 63.8047 % , and precision score = 90.0 % \n",
      " Best parameters are {'n_neighbors': 2} \n",
      "\n",
      "              precision    recall  f1-score   support\n",
      "\n",
      "          -1      0.572     0.958     0.716       283\n",
      "           1      0.900     0.347     0.501       311\n",
      "\n",
      "    accuracy                          0.638       594\n",
      "   macro avg      0.736     0.652     0.609       594\n",
      "weighted avg      0.744     0.638     0.604       594\n",
      "\n"
     ]
    },
    {
     "data": {
      "image/png": "[encoded data removed]",
      "text/plain": [
       "<Figure size 432x288 with 2 Axes>"
      ]
     },
     "metadata": {
      "needs_background": "light"
     },
     "output_type": "display_data"
    },
    {
     "name": "stdout",
     "output_type": "stream",
     "text": [
      "DecisionTreeClassifier acuracy = 72.0539 % , and precision score = 85.0242 % \n",
      " Best parameters are {'max_depth': 8, 'random_state': 40} \n",
      "\n",
      "              precision    recall  f1-score   support\n",
      "\n",
      "          -1      0.651     0.890     0.752       283\n",
      "           1      0.850     0.566     0.680       311\n",
      "\n",
      "    accuracy                          0.721       594\n",
      "   macro avg      0.751     0.728     0.716       594\n",
      "weighted avg      0.755     0.721     0.714       594\n",
      "\n"
     ]
    },
    {
     "data": {
      "image/png": "[encoded data removed]",
      "text/plain": [
       "<Figure size 432x288 with 2 Axes>"
      ]
     },
     "metadata": {
      "needs_background": "light"
     },
     "output_type": "display_data"
    }
   ],
   "source": [
    "for clf , hyper_params in estimators.items():\n",
    "    Model = GridSearchCV( clf, hyper_params, cv=3)\n",
    "   # rand = RandomizedSearchCV(clf , hyper_params, random_state = 3)\n",
    "    Model.fit(X_train,y_train)\n",
    "    predics = Model.predict(X_test)\n",
    "    print(\"{} acuracy = {} % , and precision score = {} % \\n Best parameters are {} \\n\"\n",
    "          .format(str(clf).replace('()',''),round(accuracy_score(y_test, predics) *100,4),\n",
    "                  round(precision_score(y_test, predics)*100,4),Model.best_params_))\n",
    "    print (classification_report(y_test, predics,digits=3))\n",
    "    confus_Model= confusion_matrix(y_test, predics)\n",
    "    ax = sns.heatmap(confus_Model, annot=True, cmap='Blues')\n",
    "    ax.set_title(' Confusion Matrix with labels\\n\\n');\n",
    "    ax.set_xlabel('\\nPredicted Values')\n",
    "    ax.set_ylabel('Actual Values ');\n",
    "## Ticket labels - List must be in alphabetical order\n",
    "    ax.xaxis.set_ticklabels(['Negative','Positive'])\n",
    "    ax.yaxis.set_ticklabels(['Negative','Positive'])\n",
    "## Display the visualization of the Confusion Matrix.\n",
    "    plt.show()"
   ]
  },
  {
   "cell_type": "code",
   "execution_count": null,
   "id": "1718c8d4",
   "metadata": {},
   "outputs": [],
   "source": []
  }
 ],
 "metadata": {
  "kernelspec": {
   "display_name": "Python 3 (ipykernel)",
   "language": "python",
   "name": "python3"
  },
  "language_info": {
   "codemirror_mode": {
    "name": "ipython",
    "version": 3
   },
   "file_extension": ".py",
   "mimetype": "text/x-python",
   "name": "python",
   "nbconvert_exporter": "python",
   "pygments_lexer": "ipython3",
   "version": "3.9.12"
  }
 },
 "nbformat": 4,
 "nbformat_minor": 5
}
