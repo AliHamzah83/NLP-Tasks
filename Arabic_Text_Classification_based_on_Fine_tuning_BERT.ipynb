{
  "nbformat": 4,
  "nbformat_minor": 0,
  "metadata": {
    "colab": {
      "provenance": [],
      "authorship_tag": "ABX9TyNPH7uSb1mU3Mnj7F9ndRju",
      "include_colab_link": true
    },
    "kernelspec": {
      "name": "python3",
      "display_name": "Python 3"
    },
    "language_info": {
      "name": "python"
    },
    "accelerator": "GPU",
    "gpuClass": "standard"
  },
  "cells": [
    {
      "cell_type": "markdown",
      "metadata": {
        "id": "view-in-github",
        "colab_type": "text"
      },
      "source": [
        "<a href=\"https://colab.research.google.com/github/AliHamzah83/NLP-Tasks/blob/main/Arabic_Text_Classification_based_on_Fine_tuning_BERT.ipynb\" target=\"_parent\"><img src=\"https://colab.research.google.com/assets/colab-badge.svg\" alt=\"Open In Colab\"/></a>"
      ]
    },
    {
      "cell_type": "code",
      "source": [
        "!pip install transformers"
      ],
      "metadata": {
        "id": "3CIIOLXWpoi5"
      },
      "execution_count": null,
      "outputs": []
    },
    {
      "cell_type": "code",
      "source": [
        "import pandas as pd\n",
        "#pd.options.display.max_rows = 20000\n",
        "import numpy as np\n",
        "import seaborn as sns\n",
        "import matplotlib.pyplot as plt\n",
        "from sklearn.model_selection import train_test_split\n",
        "from termcolor import colored\n",
        "import gensim \n",
        "import nltk\n",
        "import re , string #emoji, Stemmer, functools, operator\n",
        "#import re , emoji, Stemmer, functools, operator, string\n",
        "import os\n",
        "import re\n",
        "from tqdm import tqdm\n",
        "from sklearn.metrics import accuracy_score\n",
        "from sklearn.metrics import classification_report\n",
        "from sklearn.metrics import roc_curve\n",
        "import csv"
      ],
      "metadata": {
        "id": "ma97wLFdvbpf"
      },
      "execution_count": 2,
      "outputs": []
    },
    {
      "cell_type": "code",
      "execution_count": 3,
      "metadata": {
        "colab": {
          "base_uri": "https://localhost:8080/"
        },
        "id": "LqKexVlPGBhS",
        "outputId": "3a245550-6359-4cb2-e361-5b200272fc26"
      },
      "outputs": [
        {
          "output_type": "stream",
          "name": "stdout",
          "text": [
            "There are 1 GPU(s) available.\n",
            "Device name: Tesla T4\n"
          ]
        }
      ],
      "source": [
        "import torch\n",
        "\n",
        "if torch.cuda.is_available():       \n",
        "    device = torch.device(\"cuda\")\n",
        "    print(f'There are {torch.cuda.device_count()} GPU(s) available.')\n",
        "    print('Device name:', torch.cuda.get_device_name(0))\n",
        "\n",
        "else:\n",
        "    print('No GPU available, using the CPU instead.')\n",
        "    device = torch.device(\"cpu\")"
      ]
    },
    {
      "cell_type": "code",
      "source": [
        "#loading Traning Data\n",
        "DATA_PATH = \"/content/sample_data/ar_reviews100k.tsv\"\n",
        "df = pd.read_csv(DATA_PATH, sep='\\t')\n",
        "df"
      ],
      "metadata": {
        "id": "XWmnSWz-C4_Q",
        "colab": {
          "base_uri": "https://localhost:8080/",
          "height": 424
        },
        "outputId": "4ce1b60c-5656-465d-9862-32c40be4e64f"
      },
      "execution_count": 4,
      "outputs": [
        {
          "output_type": "execute_result",
          "data": {
            "text/plain": [
              "          label                                               text\n",
              "0      Positive  ممتاز. قرب الفندق من المسجد النبوي كبر مساحة ا...\n",
              "1      Positive  لو ينفع اديلها اكتر من نجوم كنت اديتلها بجدروا...\n",
              "2      Positive  جيد. . الإفطار في رمضان لم يكن منظم والأكل ليس...\n",
              "3      Positive  إرتفع إيكاروس و إرتفع حتي إرتفع إرتفاعا شاقا، ...\n",
              "4      Positive        فندق ممتاز . الموقع والخدمات وكل شيء. لاشيء\n",
              "...         ...                                                ...\n",
              "96525  Negative  معرفش ليه كنت عاوزة أكملها وهي مش عاجباني من ا...\n",
              "96526  Negative  لا يستحق ان يكون في بوكنق لانه سيئ . لا شي. لا...\n",
              "96527  Negative  كتاب ضعيف جدا ولم استمتع به. فى كل قصه سرد لحا...\n",
              "96528  Negative  مملة جدا. محمد حسن علوان فنان بالكلمات، والوصف...\n",
              "96529  Negative  لن ارجع إليه مرة اخرى . قربه من البحر. المكان ...\n",
              "\n",
              "[96530 rows x 2 columns]"
            ],
            "text/html": [
              "\n",
              "  <div id=\"df-df5a4d20-5c8c-483c-823e-f7432390e92e\">\n",
              "    <div class=\"colab-df-container\">\n",
              "      <div>\n",
              "<style scoped>\n",
              "    .dataframe tbody tr th:only-of-type {\n",
              "        vertical-align: middle;\n",
              "    }\n",
              "\n",
              "    .dataframe tbody tr th {\n",
              "        vertical-align: top;\n",
              "    }\n",
              "\n",
              "    .dataframe thead th {\n",
              "        text-align: right;\n",
              "    }\n",
              "</style>\n",
              "<table border=\"1\" class=\"dataframe\">\n",
              "  <thead>\n",
              "    <tr style=\"text-align: right;\">\n",
              "      <th></th>\n",
              "      <th>label</th>\n",
              "      <th>text</th>\n",
              "    </tr>\n",
              "  </thead>\n",
              "  <tbody>\n",
              "    <tr>\n",
              "      <th>0</th>\n",
              "      <td>Positive</td>\n",
              "      <td>ممتاز. قرب الفندق من المسجد النبوي كبر مساحة ا...</td>\n",
              "    </tr>\n",
              "    <tr>\n",
              "      <th>1</th>\n",
              "      <td>Positive</td>\n",
              "      <td>لو ينفع اديلها اكتر من نجوم كنت اديتلها بجدروا...</td>\n",
              "    </tr>\n",
              "    <tr>\n",
              "      <th>2</th>\n",
              "      <td>Positive</td>\n",
              "      <td>جيد. . الإفطار في رمضان لم يكن منظم والأكل ليس...</td>\n",
              "    </tr>\n",
              "    <tr>\n",
              "      <th>3</th>\n",
              "      <td>Positive</td>\n",
              "      <td>إرتفع إيكاروس و إرتفع حتي إرتفع إرتفاعا شاقا، ...</td>\n",
              "    </tr>\n",
              "    <tr>\n",
              "      <th>4</th>\n",
              "      <td>Positive</td>\n",
              "      <td>فندق ممتاز . الموقع والخدمات وكل شيء. لاشيء</td>\n",
              "    </tr>\n",
              "    <tr>\n",
              "      <th>...</th>\n",
              "      <td>...</td>\n",
              "      <td>...</td>\n",
              "    </tr>\n",
              "    <tr>\n",
              "      <th>96525</th>\n",
              "      <td>Negative</td>\n",
              "      <td>معرفش ليه كنت عاوزة أكملها وهي مش عاجباني من ا...</td>\n",
              "    </tr>\n",
              "    <tr>\n",
              "      <th>96526</th>\n",
              "      <td>Negative</td>\n",
              "      <td>لا يستحق ان يكون في بوكنق لانه سيئ . لا شي. لا...</td>\n",
              "    </tr>\n",
              "    <tr>\n",
              "      <th>96527</th>\n",
              "      <td>Negative</td>\n",
              "      <td>كتاب ضعيف جدا ولم استمتع به. فى كل قصه سرد لحا...</td>\n",
              "    </tr>\n",
              "    <tr>\n",
              "      <th>96528</th>\n",
              "      <td>Negative</td>\n",
              "      <td>مملة جدا. محمد حسن علوان فنان بالكلمات، والوصف...</td>\n",
              "    </tr>\n",
              "    <tr>\n",
              "      <th>96529</th>\n",
              "      <td>Negative</td>\n",
              "      <td>لن ارجع إليه مرة اخرى . قربه من البحر. المكان ...</td>\n",
              "    </tr>\n",
              "  </tbody>\n",
              "</table>\n",
              "<p>96530 rows × 2 columns</p>\n",
              "</div>\n",
              "      <button class=\"colab-df-convert\" onclick=\"convertToInteractive('df-df5a4d20-5c8c-483c-823e-f7432390e92e')\"\n",
              "              title=\"Convert this dataframe to an interactive table.\"\n",
              "              style=\"display:none;\">\n",
              "        \n",
              "  <svg xmlns=\"http://www.w3.org/2000/svg\" height=\"24px\"viewBox=\"0 0 24 24\"\n",
              "       width=\"24px\">\n",
              "    <path d=\"M0 0h24v24H0V0z\" fill=\"none\"/>\n",
              "    <path d=\"M18.56 5.44l.94 2.06.94-2.06 2.06-.94-2.06-.94-.94-2.06-.94 2.06-2.06.94zm-11 1L8.5 8.5l.94-2.06 2.06-.94-2.06-.94L8.5 2.5l-.94 2.06-2.06.94zm10 10l.94 2.06.94-2.06 2.06-.94-2.06-.94-.94-2.06-.94 2.06-2.06.94z\"/><path d=\"M17.41 7.96l-1.37-1.37c-.4-.4-.92-.59-1.43-.59-.52 0-1.04.2-1.43.59L10.3 9.45l-7.72 7.72c-.78.78-.78 2.05 0 2.83L4 21.41c.39.39.9.59 1.41.59.51 0 1.02-.2 1.41-.59l7.78-7.78 2.81-2.81c.8-.78.8-2.07 0-2.86zM5.41 20L4 18.59l7.72-7.72 1.47 1.35L5.41 20z\"/>\n",
              "  </svg>\n",
              "      </button>\n",
              "      \n",
              "  <style>\n",
              "    .colab-df-container {\n",
              "      display:flex;\n",
              "      flex-wrap:wrap;\n",
              "      gap: 12px;\n",
              "    }\n",
              "\n",
              "    .colab-df-convert {\n",
              "      background-color: #E8F0FE;\n",
              "      border: none;\n",
              "      border-radius: 50%;\n",
              "      cursor: pointer;\n",
              "      display: none;\n",
              "      fill: #1967D2;\n",
              "      height: 32px;\n",
              "      padding: 0 0 0 0;\n",
              "      width: 32px;\n",
              "    }\n",
              "\n",
              "    .colab-df-convert:hover {\n",
              "      background-color: #E2EBFA;\n",
              "      box-shadow: 0px 1px 2px rgba(60, 64, 67, 0.3), 0px 1px 3px 1px rgba(60, 64, 67, 0.15);\n",
              "      fill: #174EA6;\n",
              "    }\n",
              "\n",
              "    [theme=dark] .colab-df-convert {\n",
              "      background-color: #3B4455;\n",
              "      fill: #D2E3FC;\n",
              "    }\n",
              "\n",
              "    [theme=dark] .colab-df-convert:hover {\n",
              "      background-color: #434B5C;\n",
              "      box-shadow: 0px 1px 3px 1px rgba(0, 0, 0, 0.15);\n",
              "      filter: drop-shadow(0px 1px 2px rgba(0, 0, 0, 0.3));\n",
              "      fill: #FFFFFF;\n",
              "    }\n",
              "  </style>\n",
              "\n",
              "      <script>\n",
              "        const buttonEl =\n",
              "          document.querySelector('#df-df5a4d20-5c8c-483c-823e-f7432390e92e button.colab-df-convert');\n",
              "        buttonEl.style.display =\n",
              "          google.colab.kernel.accessAllowed ? 'block' : 'none';\n",
              "\n",
              "        async function convertToInteractive(key) {\n",
              "          const element = document.querySelector('#df-df5a4d20-5c8c-483c-823e-f7432390e92e');\n",
              "          const dataTable =\n",
              "            await google.colab.kernel.invokeFunction('convertToInteractive',\n",
              "                                                     [key], {});\n",
              "          if (!dataTable) return;\n",
              "\n",
              "          const docLinkHtml = 'Like what you see? Visit the ' +\n",
              "            '<a target=\"_blank\" href=https://colab.research.google.com/notebooks/data_table.ipynb>data table notebook</a>'\n",
              "            + ' to learn more about interactive tables.';\n",
              "          element.innerHTML = '';\n",
              "          dataTable['output_type'] = 'display_data';\n",
              "          await google.colab.output.renderOutput(dataTable, element);\n",
              "          const docLink = document.createElement('div');\n",
              "          docLink.innerHTML = docLinkHtml;\n",
              "          element.appendChild(docLink);\n",
              "        }\n",
              "      </script>\n",
              "    </div>\n",
              "  </div>\n",
              "  "
            ]
          },
          "metadata": {},
          "execution_count": 4
        }
      ]
    },
    {
      "cell_type": "code",
      "source": [
        "# Romove Mixed label according goal project\n",
        "import seaborn as sns\n",
        "sns.countplot(x='label', data=df)"
      ],
      "metadata": {
        "id": "Fc1AHQbEfY8u",
        "colab": {
          "base_uri": "https://localhost:8080/",
          "height": 296
        },
        "outputId": "69632505-0e3f-4ec0-cf7e-80de30ec20fb"
      },
      "execution_count": 5,
      "outputs": [
        {
          "output_type": "execute_result",
          "data": {
            "text/plain": [
              "<Axes: xlabel='label', ylabel='count'>"
            ]
          },
          "metadata": {},
          "execution_count": 5
        },
        {
          "output_type": "display_data",
          "data": {
            "text/plain": [
              "<Figure size 432x288 with 1 Axes>"
            ],
            "image/png": "[encoded data removed]"
          },
          "metadata": {
            "needs_background": "light"
          }
        }
      ]
    },
    {
      "cell_type": "code",
      "source": [
        "df=df[df['label']!='Mixed']"
      ],
      "metadata": {
        "id": "9aul9fagfcEY"
      },
      "execution_count": 6,
      "outputs": []
    },
    {
      "cell_type": "code",
      "source": [
        "label_mapping = {\"Positive\": 1, \"Negative\":0}\n",
        "df[\"label\"]= df[\"label\"].map(label_mapping)"
      ],
      "metadata": {
        "id": "AAikoM7Ig07r"
      },
      "execution_count": null,
      "outputs": []
    },
    {
      "cell_type": "code",
      "source": [
        "df.label"
      ],
      "metadata": {
        "id": "7tM6RLRGE6M-",
        "colab": {
          "base_uri": "https://localhost:8080/"
        },
        "outputId": "037ab051-419f-4d68-a553-47e6a43b7506"
      },
      "execution_count": null,
      "outputs": [
        {
          "output_type": "execute_result",
          "data": {
            "text/plain": [
              "0        1\n",
              "1        1\n",
              "2        1\n",
              "3        1\n",
              "4        1\n",
              "        ..\n",
              "96525    0\n",
              "96526    0\n",
              "96527    0\n",
              "96528    0\n",
              "96529    0\n",
              "Name: label, Length: 63197, dtype: int64"
            ]
          },
          "metadata": {},
          "execution_count": 8
        }
      ]
    },
    {
      "cell_type": "code",
      "source": [
        "# Define X,y parameters\n",
        "X = df.text.values\n",
        "y = df.label.values"
      ],
      "metadata": {
        "id": "cE6eWLB98b8c"
      },
      "execution_count": 8,
      "outputs": []
    },
    {
      "cell_type": "code",
      "source": [
        "# The train val split is used by the DL approach but not classical ML (e.g. split traning data set into train and validation)\n",
        "X_train, X_val, y_train, y_val = train_test_split(X,y,test_size=0.1, random_state=2020)"
      ],
      "metadata": {
        "id": "E_yqJ1KZUndi"
      },
      "execution_count": 9,
      "outputs": []
    },
    {
      "cell_type": "code",
      "source": [
        "# Load testset\n",
        "DATA_PATH = \"/content/sample_data/ar_reviews100ktest.tsv\"\n",
        "test = pd.read_csv(DATA_PATH, sep='\\t')\n",
        "#test =test(['id','text'],inplace=True, plt.axis=1)"
      ],
      "metadata": {
        "id": "y21Y1kVTiJuD"
      },
      "execution_count": 10,
      "outputs": []
    },
    {
      "cell_type": "code",
      "source": [
        "test.head()"
      ],
      "metadata": {
        "id": "2-qqAQCA_2Mj"
      },
      "execution_count": null,
      "outputs": []
    },
    {
      "cell_type": "code",
      "source": [
        "import seaborn as sns\n",
        "sns.countplot(x='label', data=test)"
      ],
      "metadata": {
        "id": "iOAcV7rqB9S8"
      },
      "execution_count": null,
      "outputs": []
    },
    {
      "cell_type": "code",
      "source": [
        "# we used tow labels in test data so, we dont need to remove any more\n",
        "#test =test[test['label']!='Mixed']"
      ],
      "metadata": {
        "id": "AWaRF1C5iN_Q"
      },
      "execution_count": null,
      "outputs": []
    },
    {
      "cell_type": "code",
      "source": [
        "#define X,y for testset\n",
        "X_test = test.text.values\n",
        "y_test = test.label.values"
      ],
      "metadata": {
        "id": "iTuKcMVdE3db"
      },
      "execution_count": 13,
      "outputs": []
    },
    {
      "cell_type": "code",
      "source": [
        "#X_train, X_test, y_train, y_test = train_test_split(X,Y, test_size=0.1,random_state=4)"
      ],
      "metadata": {
        "id": "BiuoUDAeDyUF"
      },
      "execution_count": null,
      "outputs": []
    },
    {
      "cell_type": "code",
      "source": [
        "#Loading AutoTokenizer, Automodel\n",
        "from transformers import AutoTokenizer, AutoModel"
      ],
      "metadata": {
        "id": "xx3qcWFvlgg3"
      },
      "execution_count": 14,
      "outputs": []
    },
    {
      "cell_type": "code",
      "source": [
        "# using fine tuning I chose to use the Arabic-BERT model By Ali Safaya.\n",
        "tokenizer = AutoTokenizer.from_pretrained(\"asafaya/bert-mini-arabic\")"
      ],
      "metadata": {
        "id": "rn5NwPkUp-Wq"
      },
      "execution_count": null,
      "outputs": []
    },
    {
      "cell_type": "code",
      "source": [
        "#The level of processing here is much less than in previous approachs because BERT was trained with the entire sentences.\n",
        "def text_preprocessing(text):\n",
        "    \"\"\"\n",
        "    - Remove entity mentions (eg. '@united')\n",
        "    - Correct errors (eg. '&amp;' to '&')\n",
        "    @param    text (str): a string to be processed.\n",
        "    @return   text (Str): the processed string.\n",
        "    \"\"\"\n",
        "    # Remove '@name'\n",
        "    text = re.sub(r'(@.*?..)[\\s]', ' ', text)\n",
        "\n",
        "    # Replace '&amp;' with '&'\n",
        "    text = re.sub(r'&amp; ..', '&', text)\n",
        "\n",
        "    # Remove trailing whitespace\n",
        "    text = re.sub(r'\\s+', ' ', text).strip()\n",
        "\n",
        "    return text"
      ],
      "metadata": {
        "id": "KY1Q5N5dtqJ9"
      },
      "execution_count": null,
      "outputs": []
    },
    {
      "cell_type": "code",
      "source": [
        "# Define preprocessing util function\n",
        "def Text_preprocessing(text):\n",
        "    \"\"\"\n",
        "    - Remove entity mentions (eg. '@united')\n",
        "    - Correct errors (eg. '&amp;' to '&')\n",
        "    @param    text (str): a string to be processed.\n",
        "    @return   text (Str): the processed string.\n",
        "    \"\"\"\n",
        "  \n",
        "\n",
        "    # Normalize unicode encoding\n",
        "    #text = unicodedata.normalize('NFC', text)\n",
        "    # Remove '@name'\n",
        "    text = re.sub(r'(@.*?)[\\s]', ' ', text)\n",
        "\n",
        "    # Replace '&amp;' with '&'\n",
        "    text = re.sub(r'&amp;', '&', text)\n",
        "\n",
        "    # Remove trailing whitespace\n",
        "    text = re.sub(r'\\s+', ' ', text).strip()\n",
        "    \n",
        "    #Remove URLs\n",
        "    text = re.sub(r'^https?:\\/\\/.*[\\r\\n]*', '<URL>', text)\n",
        "\n",
        "\n",
        "    return text"
      ],
      "metadata": {
        "id": "xGdW0Y-BLWbB"
      },
      "execution_count": 16,
      "outputs": []
    },
    {
      "cell_type": "code",
      "source": [
        "print(\"the orignal is \",X[2])\n",
        "print(\"the procees is \",Text_preprocessing(X[2]))"
      ],
      "metadata": {
        "colab": {
          "base_uri": "https://localhost:8080/"
        },
        "id": "21zlL_Iu-MEB",
        "outputId": "6434410c-e981-472f-c03d-2c49684199cf"
      },
      "execution_count": 17,
      "outputs": [
        {
          "output_type": "stream",
          "name": "stdout",
          "text": [
            "the orignal is  جيد. . الإفطار في رمضان لم يكن منظم والأكل ليس بمستوى جيد\n",
            "the procees is  جيد. . الإفطار في رمضان لم يكن منظم والأكل ليس بمستوى جيد\n"
          ]
        }
      ]
    },
    {
      "cell_type": "code",
      "source": [
        "#BERT Tokenizer\n",
        "# Create a function to tokenize a set of texts\n",
        "def preprocessing_for_bert(data):\n",
        "    \"\"\"Perform required preprocessing steps for pretrained BERT.\n",
        "    @param    data (np.array): Array of texts to be processed.\n",
        "    @return   input_ids (torch.Tensor): Tensor of token ids to be fed to a model.\n",
        "    @return   attention_masks (torch.Tensor): Tensor of indices specifying which\n",
        "                  tokens should be attended to by the model.\n",
        "    \"\"\"\n",
        "    # Create empty lists to store outputs\n",
        "    input_ids = []\n",
        "    attention_masks = []\n",
        "\n",
        "    # For every sentence...\n",
        "    for sent in data:\n",
        "        # `encode_plus` will:\n",
        "        #    (1) Tokenize the sentence\n",
        "        #    (2) Add the `[CLS]` and `[SEP]` token to the start and end\n",
        "        #    (3) Truncate/Pad sentence to max length\n",
        "        #    (4) Map tokens to their IDs\n",
        "        #    (5) Create attention mask\n",
        "        #    (6) Return a dictionary of outputs\n",
        "        encoded_sent = tokenizer.encode_plus(\n",
        "            text=Text_preprocessing(sent),  # Preprocess sentence\n",
        "            add_special_tokens=True,        # Add `[CLS]` and `[SEP]`\n",
        "            max_length=MAX_LEN,                  # Max length to truncate/pad\n",
        "            pad_to_max_length=True,         # Pad sentence to max length\n",
        "            #return_tensors='pt',           # Return PyTorch tensor\n",
        "            return_attention_mask=True      # Return attention mask\n",
        "            )\n",
        "        \n",
        "        # Add the outputs to the lists\n",
        "        input_ids.append(encoded_sent.get('input_ids'))\n",
        "        attention_masks.append(encoded_sent.get('attention_mask'))\n",
        "\n",
        "    # Convert lists to tensors\n",
        "    input_ids = torch.tensor(input_ids)\n",
        "    attention_masks = torch.tensor(attention_masks)\n",
        "\n",
        "    return input_ids, attention_masks"
      ],
      "metadata": {
        "id": "kXNPRPvvw1en"
      },
      "execution_count": 24,
      "outputs": []
    },
    {
      "cell_type": "code",
      "source": [
        "# Print sentence 0\n",
        "print('Original: ', X[2])\n",
        "print('Processed: ', preprocessing_for_bert(X[2]))"
      ],
      "metadata": {
        "id": "ogJYEs2sOkMP",
        "colab": {
          "base_uri": "https://localhost:8080/",
          "height": 339
        },
        "outputId": "c7cddbe6-1e0a-4a89-c630-823182cdac1a"
      },
      "execution_count": 25,
      "outputs": [
        {
          "output_type": "stream",
          "name": "stdout",
          "text": [
            "Original:  جيد. . الإفطار في رمضان لم يكن منظم والأكل ليس بمستوى جيد\n"
          ]
        },
        {
          "output_type": "error",
          "ename": "NameError",
          "evalue": "ignored",
          "traceback": [
            "\u001b[0;31m---------------------------------------------------------------------------\u001b[0m",
            "\u001b[0;31mNameError\u001b[0m                                 Traceback (most recent call last)",
            "\u001b[0;32m<ipython-input-25-b05292cbd4f5>\u001b[0m in \u001b[0;36m<module>\u001b[0;34m\u001b[0m\n\u001b[1;32m      1\u001b[0m \u001b[0;31m# Print sentence 0\u001b[0m\u001b[0;34m\u001b[0m\u001b[0;34m\u001b[0m\u001b[0m\n\u001b[1;32m      2\u001b[0m \u001b[0mprint\u001b[0m\u001b[0;34m(\u001b[0m\u001b[0;34m'Original: '\u001b[0m\u001b[0;34m,\u001b[0m \u001b[0mX\u001b[0m\u001b[0;34m[\u001b[0m\u001b[0;36m2\u001b[0m\u001b[0;34m]\u001b[0m\u001b[0;34m)\u001b[0m\u001b[0;34m\u001b[0m\u001b[0;34m\u001b[0m\u001b[0m\n\u001b[0;32m----> 3\u001b[0;31m \u001b[0mprint\u001b[0m\u001b[0;34m(\u001b[0m\u001b[0;34m'Processed: '\u001b[0m\u001b[0;34m,\u001b[0m \u001b[0mpreprocessing_for_bert\u001b[0m\u001b[0;34m(\u001b[0m\u001b[0mX\u001b[0m\u001b[0;34m[\u001b[0m\u001b[0;36m2\u001b[0m\u001b[0;34m]\u001b[0m\u001b[0;34m)\u001b[0m\u001b[0;34m)\u001b[0m\u001b[0;34m\u001b[0m\u001b[0;34m\u001b[0m\u001b[0m\n\u001b[0m",
            "\u001b[0;32m<ipython-input-24-9244ace2596d>\u001b[0m in \u001b[0;36mpreprocessing_for_bert\u001b[0;34m(data)\u001b[0m\n\u001b[1;32m     24\u001b[0m             \u001b[0mtext\u001b[0m\u001b[0;34m=\u001b[0m\u001b[0mText_preprocessing\u001b[0m\u001b[0;34m(\u001b[0m\u001b[0msent\u001b[0m\u001b[0;34m)\u001b[0m\u001b[0;34m,\u001b[0m  \u001b[0;31m# Preprocess sentence\u001b[0m\u001b[0;34m\u001b[0m\u001b[0;34m\u001b[0m\u001b[0m\n\u001b[1;32m     25\u001b[0m             \u001b[0madd_special_tokens\u001b[0m\u001b[0;34m=\u001b[0m\u001b[0;32mTrue\u001b[0m\u001b[0;34m,\u001b[0m        \u001b[0;31m# Add `[CLS]` and `[SEP]`\u001b[0m\u001b[0;34m\u001b[0m\u001b[0;34m\u001b[0m\u001b[0m\n\u001b[0;32m---> 26\u001b[0;31m             \u001b[0mmax_length\u001b[0m\u001b[0;34m=\u001b[0m\u001b[0mMAX_LEN\u001b[0m\u001b[0;34m,\u001b[0m                  \u001b[0;31m# Max length to truncate/pad\u001b[0m\u001b[0;34m\u001b[0m\u001b[0;34m\u001b[0m\u001b[0m\n\u001b[0m\u001b[1;32m     27\u001b[0m             \u001b[0mpad_to_max_length\u001b[0m\u001b[0;34m=\u001b[0m\u001b[0;32mTrue\u001b[0m\u001b[0;34m,\u001b[0m         \u001b[0;31m# Pad sentence to max length\u001b[0m\u001b[0;34m\u001b[0m\u001b[0;34m\u001b[0m\u001b[0m\n\u001b[1;32m     28\u001b[0m             \u001b[0;31m#return_tensors='pt',           # Return PyTorch tensor\u001b[0m\u001b[0;34m\u001b[0m\u001b[0;34m\u001b[0m\u001b[0m\n",
            "\u001b[0;31mNameError\u001b[0m: name 'MAX_LEN' is not defined"
          ]
        }
      ]
    },
    {
      "cell_type": "code",
      "source": [
        "# Concatenate train data and test data\n",
        "all_tweets = np.concatenate([df.text.values, test.text.values])\n",
        "\n",
        "# Encode our concatenated data\n",
        "encoded_tweets = [tokenizer.encode(sent, add_special_tokens=True) for sent in all_tweets]\n",
        "\n",
        "# Find the maximum length\n",
        "max_len = max([len(sent) for sent in encoded_tweets])\n",
        "print('Max length: ', max_len)"
      ],
      "metadata": {
        "colab": {
          "base_uri": "https://localhost:8080/"
        },
        "id": "9u16eJLXPRRa",
        "outputId": "a529074b-b655-48a3-918b-02eb688f2579"
      },
      "execution_count": 21,
      "outputs": [
        {
          "output_type": "stream",
          "name": "stdout",
          "text": [
            "Max length:  2665\n"
          ]
        }
      ]
    },
    {
      "cell_type": "markdown",
      "source": [
        "Before tokenizing, we need to specify the maximum length of our sentences."
      ],
      "metadata": {
        "id": "xdtPD25RP6Ej"
      }
    },
    {
      "cell_type": "markdown",
      "source": [
        "Now let's tokenize our data."
      ],
      "metadata": {
        "id": "QkVoYK9KRVZ7"
      }
    },
    {
      "cell_type": "code",
      "source": [
        "#Before tokenizing, we need to specify the maximum length of our sentences.\n",
        "# Specify `MAX_LEN`\n",
        "MAX_LEN =  512\n",
        "# Print sentence 0 and its encoded token ids\n",
        "token_ids = list(preprocessing_for_bert([X[0]])[0].squeeze().numpy())\n",
        "print('Original: ', X[0])\n",
        "print('Token IDs: ', token_ids)\n",
        "\n",
        "# Run function `preprocessing_for_bert` on the train set and the validation set\n",
        "print('Tokenizing data...')\n",
        "train_inputs, train_masks = preprocessing_for_bert(X_train)\n",
        "val_inputs, val_masks = preprocessing_for_bert(X_val)"
      ],
      "metadata": {
        "colab": {
          "base_uri": "https://localhost:8080/"
        },
        "id": "opw22YQEBZmF",
        "outputId": "3af26104-2f91-4850-c32f-3775e0f5360c"
      },
      "execution_count": 26,
      "outputs": [
        {
          "output_type": "stream",
          "name": "stderr",
          "text": [
            "Truncation was not explicitly activated but `max_length` is provided a specific value, please use `truncation=True` to explicitly truncate examples to max length. Defaulting to 'longest_first' truncation strategy. If you encode pairs of sequences (GLUE-style) with the tokenizer you can select this strategy more precisely by providing a specific strategy to `truncation`.\n",
            "/usr/local/lib/python3.9/dist-packages/transformers/tokenization_utils_base.py:2346: FutureWarning: The `pad_to_max_length` argument is deprecated and will be removed in a future version, use `padding=True` or `padding='longest'` to pad to the longest sequence in the batch, or use `padding='max_length'` to pad to a max length. In this case, you can give a specific length with `max_length` (e.g. `max_length=45`) or leave max_length to None to pad to the maximal input size of the model (e.g. 512 for Bert).\n",
            "  warnings.warn(\n"
          ]
        },
        {
          "output_type": "stream",
          "name": "stdout",
          "text": [
            "Original:  ممتاز. قرب الفندق من المسجد النبوي كبر مساحة الغرف توفر المصاعد بكثرة الهدوء خدمة الغرف سريعة جداالعاملون بشكل عام ودودين وخدومين. الغرف أثاثها قديم عدم وجود نوافذ للتهوية مكان الأفطار حيل ضيق مستوي الأفطار متوسطعدم وجود واي فاي في الغرف\n",
            "Token IDs:  [2, 11774, 18, 6010, 8068, 1726, 5430, 7473, 18076, 7373, 11064, 5732, 2200, 2458, 18892, 18196, 3375, 11064, 10701, 2791, 8342, 2176, 1733, 2498, 2091, 22098, 1724, 2555, 14366, 7199, 18, 11064, 4171, 1731, 10658, 2917, 3053, 29969, 25573, 1993, 3108, 12583, 3616, 1008, 16087, 16676, 12583, 4017, 27482, 3053, 3541, 7361, 1725, 11064, 3, 0, 0, 0, 0, 0, 0, 0, 0, 0, 0, 0, 0, 0, 0, 0, 0, 0, 0, 0, 0, 0, 0, 0, 0, 0, 0, 0, 0, 0, 0, 0, 0, 0, 0, 0, 0, 0, 0, 0, 0, 0, 0, 0, 0, 0, 0, 0, 0, 0, 0, 0, 0, 0, 0, 0, 0, 0, 0, 0, 0, 0, 0, 0, 0, 0, 0, 0, 0, 0, 0, 0, 0, 0, 0, 0, 0, 0, 0, 0, 0, 0, 0, 0, 0, 0, 0, 0, 0, 0, 0, 0, 0, 0, 0, 0, 0, 0, 0, 0, 0, 0, 0, 0, 0, 0, 0, 0, 0, 0, 0, 0, 0, 0, 0, 0, 0, 0, 0, 0, 0, 0, 0, 0, 0, 0, 0, 0, 0, 0, 0, 0, 0, 0, 0, 0, 0, 0, 0, 0, 0, 0, 0, 0, 0, 0, 0, 0, 0, 0, 0, 0, 0, 0, 0, 0, 0, 0, 0, 0, 0, 0, 0, 0, 0, 0, 0, 0, 0, 0, 0, 0, 0, 0, 0, 0, 0, 0, 0, 0, 0, 0, 0, 0, 0, 0, 0, 0, 0, 0, 0, 0, 0, 0, 0, 0, 0, 0, 0, 0, 0, 0, 0, 0, 0, 0, 0, 0, 0, 0, 0, 0, 0, 0, 0, 0, 0, 0, 0, 0, 0, 0, 0, 0, 0, 0, 0, 0, 0, 0, 0, 0, 0, 0, 0, 0, 0, 0, 0, 0, 0, 0, 0, 0, 0, 0, 0, 0, 0, 0, 0, 0, 0, 0, 0, 0, 0, 0, 0, 0, 0, 0, 0, 0, 0, 0, 0, 0, 0, 0, 0, 0, 0, 0, 0, 0, 0, 0, 0, 0, 0, 0, 0, 0, 0, 0, 0, 0, 0, 0, 0, 0, 0, 0, 0, 0, 0, 0, 0, 0, 0, 0, 0, 0, 0, 0, 0, 0, 0, 0, 0, 0, 0, 0, 0, 0, 0, 0, 0, 0, 0, 0, 0, 0, 0, 0, 0, 0, 0, 0, 0, 0, 0, 0, 0, 0, 0, 0, 0, 0, 0, 0, 0, 0, 0, 0, 0, 0, 0, 0, 0, 0, 0, 0, 0, 0, 0, 0, 0, 0, 0, 0, 0, 0, 0, 0, 0, 0, 0, 0, 0, 0, 0, 0, 0, 0, 0, 0, 0, 0, 0, 0, 0, 0, 0, 0, 0, 0, 0, 0, 0, 0, 0, 0, 0, 0, 0, 0, 0, 0, 0, 0, 0, 0, 0, 0, 0, 0, 0, 0, 0, 0, 0, 0, 0, 0, 0, 0, 0, 0, 0, 0, 0, 0, 0, 0, 0, 0, 0, 0, 0, 0, 0, 0, 0, 0, 0, 0, 0, 0, 0, 0, 0, 0, 0, 0, 0, 0, 0, 0, 0, 0, 0, 0, 0, 0, 0, 0]\n",
            "Tokenizing data...\n"
          ]
        }
      ]
    },
    {
      "cell_type": "code",
      "source": [
        "#Create PyTorch DataLoader\n",
        "from torch.utils.data import TensorDataset, DataLoader, RandomSampler, SequentialSampler\n",
        "\n",
        "# Convert other data types to torch.Tensor\n",
        "train_labels = torch.tensor(y_train)\n",
        "val_labels = torch.tensor(y_val)\n",
        "# For fine-tuning BERT, the authors recommend a batch size of 16 or 32.\n",
        "batch_size = 16\n",
        "\n",
        "# Create the DataLoader for our training set\n",
        "train_data = TensorDataset(train_inputs, train_masks, train_labels)\n",
        "train_sampler = RandomSampler(train_data)\n",
        "train_dataloader = DataLoader(train_data, sampler=train_sampler, batch_size=batch_size)\n",
        "\n",
        "# Create the DataLoader for our validation set\n",
        "val_data = TensorDataset(val_inputs, val_masks, val_labels)\n",
        "val_sampler = SequentialSampler(val_data)\n",
        "val_dataloader = DataLoader(val_data, sampler=val_sampler, batch_size=batch_size)"
      ],
      "metadata": {
        "id": "1TCu-Dmj6UuH"
      },
      "execution_count": 27,
      "outputs": []
    },
    {
      "cell_type": "code",
      "source": [
        "%%time\n",
        "import torch\n",
        "import torch.nn as nn\n",
        "from transformers import BertModel\n",
        "\n",
        "# Create the BertClassfier class\n",
        "class BertClassifier(nn.Module):\n",
        "    \"\"\"Bert Model for Classification Tasks.\n",
        "    \"\"\"\n",
        "    def __init__(self, freeze_bert=False, version=\"mini\"):\n",
        "        \"\"\"\n",
        "        @param    bert: a BertModel object\n",
        "        @param    classifier: a torch.nn.Module classifier\n",
        "        @param    freeze_bert (bool): Set `False` to fine-tune the BERT model\n",
        "        \"\"\"\n",
        "        super(BertClassifier, self).__init__()\n",
        "        # Specify hidden size of BERT, hidden size of our classifier, and number of labels\n",
        "        D_in = 256 if version == \"mini\" else 768\n",
        "        H, D_out = 50, 2\n",
        "\n",
        "        # Instantiate BERT model\n",
        "        self.bert = AutoModel.from_pretrained(\"asafaya/bert-mini-arabic\") if version == \"mini\" else AutoModel.from_pretrained(\"asafaya/bert-base-arabic\")\n",
        "        # Instantiate an one-layer feed-forward classifier\n",
        "        self.classifier = nn.Sequential(\n",
        "            nn.Linear(D_in, H),\n",
        "            nn.ReLU(),\n",
        "            nn.Dropout(0.5),\n",
        "            nn.Linear(H, D_out)\n",
        "        )\n",
        "\n",
        "        # Freeze the BERT model\n",
        "        if freeze_bert:\n",
        "            for param in self.bert.parameters():\n",
        "                param.requires_grad = False\n",
        "        \n",
        "    def forward(self, input_ids, attention_mask):\n",
        "        \"\"\"\n",
        "        Feed input to BERT and the classifier to compute logits.\n",
        "        @param    input_ids (torch.Tensor): an input tensor with shape (batch_size,\n",
        "                      max_length)\n",
        "        @param    attention_mask (torch.Tensor): a tensor that hold attention mask\n",
        "                      information with shape (batch_size, max_length)\n",
        "        @return   logits (torch.Tensor): an output tensor with shape (batch_size,\n",
        "                      num_labels)\n",
        "        \"\"\"\n",
        "        # Feed input to BERT\n",
        "        outputs = self.bert(input_ids=input_ids,\n",
        "                            attention_mask=attention_mask)\n",
        "        \n",
        "        # Extract the last hidden state of the token `[CLS]` for classification task\n",
        "        last_hidden_state_cls = outputs[0][:, 0, :]\n",
        "\n",
        "        # Feed input to classifier to compute logits\n",
        "        logits = self.classifier(last_hidden_state_cls)\n",
        "\n",
        "        return logits"
      ],
      "metadata": {
        "colab": {
          "base_uri": "https://localhost:8080/"
        },
        "id": "GhC_YbtUUqz6",
        "outputId": "4f1c890d-651c-4ed6-b1c6-09f2cfe66726"
      },
      "execution_count": 28,
      "outputs": [
        {
          "output_type": "stream",
          "name": "stdout",
          "text": [
            "CPU times: user 51.3 ms, sys: 970 µs, total: 52.3 ms\n",
            "Wall time: 54.4 ms\n"
          ]
        }
      ]
    },
    {
      "cell_type": "markdown",
      "source": [
        "To fine-tune our Bert Classifier, we need to create an optimizer. The authors recommend following hyper-parameters:\n",
        "\n",
        "Batch size: 16 or 32\n",
        "Learning rate (Adam): 5e-5, 3e-5 or 2e-5\n",
        "Number of epochs: 2, 3, 4"
      ],
      "metadata": {
        "id": "DY7sfhIgXs9e"
      }
    },
    {
      "cell_type": "code",
      "source": [
        "from transformers import AdamW, get_linear_schedule_with_warmup\n",
        "\n",
        "from torch.optim import SparseAdam, Adam\n",
        "def initialize_model(epochs=4, version=\"mini\"):\n",
        "    \"\"\"Initialize the Bert Classifier, the optimizer and the learning rate scheduler.\n",
        "    \"\"\"\n",
        "    # Instantiate Bert Classifier\n",
        "    bert_classifier = BertClassifier(freeze_bert=False, version=version)\n",
        "    # Tell PyTorch to run the model on GPU\n",
        "    bert_classifier.to(device)\n",
        "\n",
        "    # Create the optimizer\n",
        "    optimizer = AdamW(params=list(bert_classifier.parameters()),\n",
        "                      lr=5e-5,    # Default learning rate\n",
        "                      eps=1e-8    # Default epsilon value\n",
        "                      )\n",
        "\n",
        "    # Total number of training steps\n",
        "    total_steps = len(train_dataloader) * epochs\n",
        "\n",
        "    # Set up the learning rate scheduler\n",
        "    scheduler = get_linear_schedule_with_warmup(optimizer,\n",
        "                                                num_warmup_steps=0, # Default value\n",
        "                                                num_training_steps=total_steps)\n",
        "    return bert_classifier, optimizer, scheduler"
      ],
      "metadata": {
        "id": "ynL8ESpdXuvR"
      },
      "execution_count": 29,
      "outputs": []
    },
    {
      "cell_type": "markdown",
      "source": [
        "Train Model and Evaluation Function"
      ],
      "metadata": {
        "id": "EFzg07ILYPRO"
      }
    },
    {
      "cell_type": "code",
      "source": [
        "import random\n",
        "import time\n",
        "import torch\n",
        "import torch.nn as nn\n",
        "# Specify loss function\n",
        "loss_fn = nn.CrossEntropyLoss()\n",
        "\n",
        "def set_seed(seed_value=42):\n",
        "    \"\"\"Set seed for reproducibility.\n",
        "    \"\"\"\n",
        "    random.seed(seed_value)\n",
        "    np.random.seed(seed_value)\n",
        "    torch.manual_seed(seed_value)\n",
        "    torch.cuda.manual_seed_all(seed_value)\n",
        "\n",
        "def train(model, train_dataloader, val_dataloader=None, epochs=4, evaluation=False):\n",
        "    \"\"\"Train the BertClassifier model.\n",
        "    \"\"\"\n",
        "    # Start training loop\n",
        "    print(\"Start training...\\n\")\n",
        "    for epoch_i in range(epochs):\n",
        "        # =======================================\n",
        "        #               Training\n",
        "        # =======================================\n",
        "        # Print the header of the result table\n",
        "        print(f\"{'Epoch':^7} | {'Batch':^7} | {'Train Loss':^12} | {'Val Loss':^10} | {'Val Acc':^9} | {'Elapsed':^9}\")\n",
        "        print(\"-\"*70)\n",
        "\n",
        "        # Measure the elapsed time of each epoch\n",
        "        t0_epoch, t0_batch = time.time(), time.time()\n",
        "\n",
        "        # Reset tracking variables at the beginning of each epoch\n",
        "        total_loss, batch_loss, batch_counts = 0, 0, 0\n",
        "\n",
        "        # Put the model into the training mode\n",
        "        model.train()\n",
        "\n",
        "        # For each batch of training data...\n",
        "        for step, batch in enumerate(train_dataloader):\n",
        "            batch_counts +=1\n",
        "            # Load batch to GPU\n",
        "            b_input_ids, b_attn_mask, b_labels = tuple(t.to(device) for t in batch)\n",
        "\n",
        "            # Zero out any previously calculated gradients\n",
        "            model.zero_grad()\n",
        "\n",
        "            # Perform a forward pass. This will return logits.\n",
        "            logits = model(b_input_ids, b_attn_mask)\n",
        "\n",
        "            # Compute loss and accumulate the loss values\n",
        "            loss = loss_fn(logits, b_labels)\n",
        "            batch_loss += loss.item()\n",
        "            total_loss += loss.item()\n",
        "\n",
        "            # Perform a backward pass to calculate gradients\n",
        "            loss.backward()\n",
        "\n",
        "            # Clip the norm of the gradients to 1.0 to prevent \"exploding gradients\"\n",
        "            torch.nn.utils.clip_grad_norm_(model.parameters(), 1.0)\n",
        "\n",
        "            # Update parameters and the learning rate\n",
        "            optimizer.step()\n",
        "            scheduler.step()\n",
        "\n",
        "            # Print the loss values and time elapsed for every 20 batches\n",
        "            if (step % 20 == 0 and step != 0) or (step == len(train_dataloader) - 1):\n",
        "                # Calculate time elapsed for 20 batches\n",
        "                time_elapsed = time.time() - t0_batch\n",
        "\n",
        "                # Print training results\n",
        "                print(f\"{epoch_i + 1:^7} | {step:^7} | {batch_loss / batch_counts:^12.6f} | {'-':^10} | {'-':^9} | {time_elapsed:^9.2f}\")\n",
        "\n",
        "                # Reset batch tracking variables\n",
        "                batch_loss, batch_counts = 0, 0\n",
        "                t0_batch = time.time()\n",
        "\n",
        "        # Calculate the average loss over the entire training data\n",
        "        avg_train_loss = total_loss / len(train_dataloader)\n",
        "\n",
        "        print(\"-\"*70)\n",
        "        # =======================================\n",
        "        #               Evaluation\n",
        "        # =======================================\n",
        "        if evaluation == True:\n",
        "            # After the completion of each training epoch, measure the model's performance\n",
        "            # on our validation set.\n",
        "            val_loss, val_accuracy = evaluate(model, val_dataloader)\n",
        "\n",
        "            # Print performance over the entire training data\n",
        "            time_elapsed = time.time() - t0_epoch\n",
        "            \n",
        "            print(f\"{epoch_i + 1:^7} | {'-':^7} | {avg_train_loss:^12.6f} | {val_loss:^10.6f} | {val_accuracy:^9.2f} | {time_elapsed:^9.2f}\")\n",
        "            print(\"-\"*70)\n",
        "        print(\"\\n\")\n",
        "    \n",
        "    print(\"Training complete!\")\n",
        "\n",
        "\n",
        "def evaluate(model, val_dataloader):\n",
        "    \"\"\"After the completion of each training epoch, measure the model's performance\n",
        "    on our validation set.\n",
        "    \"\"\"\n",
        "    # Put the model into the evaluation mode. The dropout layers are disabled during\n",
        "    # the test time.\n",
        "    model.eval()\n",
        "\n",
        "    # Tracking variables\n",
        "    val_accuracy = []\n",
        "    val_loss = []\n",
        "\n",
        "    # For each batch in our validation set...\n",
        "    for batch in val_dataloader:\n",
        "        # Load batch to GPU\n",
        "        b_input_ids, b_attn_mask, b_labels = tuple(t.to(device) for t in batch)\n",
        "\n",
        "        # Compute logits\n",
        "        with torch.no_grad():\n",
        "            logits = model(b_input_ids, b_attn_mask)\n",
        "\n",
        "        # Compute loss\n",
        "        loss = loss_fn(logits, b_labels)\n",
        "        val_loss.append(loss.item())\n",
        "\n",
        "        # Get the predictions\n",
        "        preds = torch.argmax(logits, dim=1).flatten()\n",
        "\n",
        "        # Calculate the accuracy rate\n",
        "        accuracy = (preds == b_labels).cpu().numpy().mean() * 100\n",
        "        val_accuracy.append(accuracy)\n",
        "\n",
        "    # Compute the average accuracy and loss over the validation set.\n",
        "    val_loss = np.mean(val_loss)\n",
        "    val_accuracy = np.mean(val_accuracy)\n",
        "\n",
        "    return val_loss, val_accuracy"
      ],
      "metadata": {
        "id": "SwozBo1mYNqY"
      },
      "execution_count": 30,
      "outputs": []
    },
    {
      "cell_type": "markdown",
      "source": [
        "Now, start training our BertClassifier!"
      ],
      "metadata": {
        "id": "tK_Ad9ECZe9l"
      }
    },
    {
      "cell_type": "code",
      "source": [
        "set_seed(3) \n",
        "bert_classifier, optimizer, scheduler = initialize_model(epochs=2)\n",
        "train(bert_classifier, train_dataloader, val_dataloader, epochs=2, evaluation=True)"
      ],
      "metadata": {
        "colab": {
          "base_uri": "https://localhost:8080/"
        },
        "id": "0Uq-LFZxZnco",
        "outputId": "a8684cbe-4261-45eb-bdd8-6fa9aae3e31b"
      },
      "execution_count": 32,
      "outputs": [
        {
          "output_type": "stream",
          "name": "stderr",
          "text": [
            "Some weights of the model checkpoint at asafaya/bert-mini-arabic were not used when initializing BertModel: ['cls.predictions.decoder.weight', 'cls.predictions.transform.LayerNorm.weight', 'cls.predictions.transform.dense.bias', 'cls.predictions.transform.dense.weight', 'cls.predictions.bias', 'cls.predictions.decoder.bias', 'cls.predictions.transform.LayerNorm.bias']\n",
            "- This IS expected if you are initializing BertModel from the checkpoint of a model trained on another task or with another architecture (e.g. initializing a BertForSequenceClassification model from a BertForPreTraining model).\n",
            "- This IS NOT expected if you are initializing BertModel from the checkpoint of a model that you expect to be exactly identical (initializing a BertForSequenceClassification model from a BertForSequenceClassification model).\n"
          ]
        },
        {
          "output_type": "stream",
          "name": "stdout",
          "text": [
            "Start training...\n",
            "\n",
            " Epoch  |  Batch  |  Train Loss  |  Val Loss  |  Val Acc  |  Elapsed \n",
            "----------------------------------------------------------------------\n",
            "   1    |   20    |   0.716620   |     -      |     -     |   2.14   \n",
            "   1    |   40    |   0.657911   |     -      |     -     |   2.01   \n",
            "   1    |   60    |   0.651455   |     -      |     -     |   2.36   \n",
            "   1    |   80    |   0.608588   |     -      |     -     |   1.91   \n",
            "   1    |   100   |   0.577414   |     -      |     -     |   1.88   \n",
            "   1    |   120   |   0.558872   |     -      |     -     |   1.89   \n",
            "   1    |   140   |   0.545379   |     -      |     -     |   1.89   \n",
            "   1    |   160   |   0.507228   |     -      |     -     |   1.89   \n",
            "   1    |   180   |   0.498499   |     -      |     -     |   1.92   \n",
            "   1    |   200   |   0.497205   |     -      |     -     |   1.96   \n",
            "   1    |   220   |   0.449176   |     -      |     -     |   1.93   \n",
            "   1    |   240   |   0.509706   |     -      |     -     |   1.93   \n",
            "   1    |   260   |   0.473003   |     -      |     -     |   1.92   \n",
            "   1    |   280   |   0.491077   |     -      |     -     |   1.93   \n",
            "   1    |   300   |   0.485911   |     -      |     -     |   1.93   \n",
            "   1    |   320   |   0.387877   |     -      |     -     |   1.95   \n",
            "   1    |   340   |   0.420508   |     -      |     -     |   2.00   \n",
            "   1    |   360   |   0.429341   |     -      |     -     |   1.93   \n",
            "   1    |   380   |   0.437338   |     -      |     -     |   1.91   \n",
            "   1    |   400   |   0.375762   |     -      |     -     |   1.91   \n",
            "   1    |   420   |   0.464723   |     -      |     -     |   1.91   \n",
            "   1    |   440   |   0.412636   |     -      |     -     |   1.91   \n",
            "   1    |   460   |   0.413153   |     -      |     -     |   1.96   \n",
            "   1    |   480   |   0.406718   |     -      |     -     |   1.95   \n",
            "   1    |   500   |   0.414834   |     -      |     -     |   1.89   \n",
            "   1    |   520   |   0.438379   |     -      |     -     |   1.90   \n",
            "   1    |   540   |   0.379970   |     -      |     -     |   1.90   \n",
            "   1    |   560   |   0.380127   |     -      |     -     |   1.89   \n",
            "   1    |   580   |   0.431517   |     -      |     -     |   2.02   \n",
            "   1    |   600   |   0.367648   |     -      |     -     |   1.96   \n",
            "   1    |   620   |   0.394048   |     -      |     -     |   1.92   \n",
            "   1    |   640   |   0.429665   |     -      |     -     |   1.89   \n",
            "   1    |   660   |   0.415415   |     -      |     -     |   1.90   \n",
            "   1    |   680   |   0.326604   |     -      |     -     |   1.89   \n",
            "   1    |   700   |   0.459926   |     -      |     -     |   1.89   \n",
            "   1    |   720   |   0.392887   |     -      |     -     |   1.90   \n",
            "   1    |   740   |   0.443392   |     -      |     -     |   1.94   \n",
            "   1    |   760   |   0.372840   |     -      |     -     |   1.90   \n",
            "   1    |   780   |   0.388369   |     -      |     -     |   1.89   \n",
            "   1    |   800   |   0.378477   |     -      |     -     |   1.89   \n",
            "   1    |   820   |   0.412705   |     -      |     -     |   1.89   \n",
            "   1    |   840   |   0.405610   |     -      |     -     |   1.88   \n",
            "   1    |   860   |   0.348246   |     -      |     -     |   1.92   \n",
            "   1    |   880   |   0.281286   |     -      |     -     |   1.95   \n",
            "   1    |   900   |   0.476137   |     -      |     -     |   1.91   \n",
            "   1    |   920   |   0.410151   |     -      |     -     |   1.89   \n",
            "   1    |   940   |   0.378688   |     -      |     -     |   1.89   \n",
            "   1    |   960   |   0.334780   |     -      |     -     |   1.90   \n",
            "   1    |   980   |   0.385026   |     -      |     -     |   1.89   \n",
            "   1    |  1000   |   0.348015   |     -      |     -     |   1.93   \n",
            "   1    |  1020   |   0.306932   |     -      |     -     |   1.95   \n",
            "   1    |  1040   |   0.306710   |     -      |     -     |   1.89   \n",
            "   1    |  1060   |   0.378082   |     -      |     -     |   1.89   \n",
            "   1    |  1080   |   0.320201   |     -      |     -     |   1.89   \n",
            "   1    |  1100   |   0.379772   |     -      |     -     |   1.89   \n",
            "   1    |  1120   |   0.370351   |     -      |     -     |   1.89   \n",
            "   1    |  1140   |   0.335073   |     -      |     -     |   1.94   \n",
            "   1    |  1160   |   0.466671   |     -      |     -     |   1.96   \n",
            "   1    |  1180   |   0.369871   |     -      |     -     |   1.90   \n",
            "   1    |  1200   |   0.327675   |     -      |     -     |   1.89   \n",
            "   1    |  1220   |   0.343928   |     -      |     -     |   1.90   \n",
            "   1    |  1240   |   0.339689   |     -      |     -     |   1.89   \n",
            "   1    |  1260   |   0.349051   |     -      |     -     |   1.89   \n",
            "   1    |  1280   |   0.337489   |     -      |     -     |   1.95   \n",
            "   1    |  1300   |   0.320442   |     -      |     -     |   1.94   \n",
            "   1    |  1320   |   0.363848   |     -      |     -     |   1.89   \n",
            "   1    |  1340   |   0.410041   |     -      |     -     |   1.89   \n",
            "   1    |  1360   |   0.374863   |     -      |     -     |   1.89   \n",
            "   1    |  1380   |   0.349017   |     -      |     -     |   1.89   \n",
            "   1    |  1400   |   0.316887   |     -      |     -     |   1.91   \n",
            "   1    |  1420   |   0.335932   |     -      |     -     |   1.95   \n",
            "   1    |  1440   |   0.344280   |     -      |     -     |   1.92   \n",
            "   1    |  1460   |   0.353086   |     -      |     -     |   1.89   \n",
            "   1    |  1480   |   0.313116   |     -      |     -     |   1.89   \n",
            "   1    |  1500   |   0.393335   |     -      |     -     |   1.89   \n",
            "   1    |  1520   |   0.312224   |     -      |     -     |   1.90   \n",
            "   1    |  1540   |   0.259478   |     -      |     -     |   1.91   \n",
            "   1    |  1560   |   0.297876   |     -      |     -     |   1.94   \n",
            "   1    |  1580   |   0.301721   |     -      |     -     |   1.91   \n",
            "   1    |  1600   |   0.381637   |     -      |     -     |   1.89   \n",
            "   1    |  1620   |   0.368124   |     -      |     -     |   1.89   \n",
            "   1    |  1640   |   0.378501   |     -      |     -     |   1.91   \n",
            "   1    |  1660   |   0.304667   |     -      |     -     |   1.90   \n",
            "   1    |  1680   |   0.269016   |     -      |     -     |   1.91   \n",
            "   1    |  1700   |   0.422919   |     -      |     -     |   2.33   \n",
            "   1    |  1720   |   0.328055   |     -      |     -     |   1.90   \n",
            "   1    |  1740   |   0.330768   |     -      |     -     |   1.89   \n",
            "   1    |  1760   |   0.325441   |     -      |     -     |   1.89   \n",
            "   1    |  1780   |   0.391110   |     -      |     -     |   1.90   \n",
            "   1    |  1800   |   0.317603   |     -      |     -     |   1.89   \n",
            "   1    |  1820   |   0.326776   |     -      |     -     |   1.93   \n",
            "   1    |  1840   |   0.370027   |     -      |     -     |   1.96   \n",
            "   1    |  1860   |   0.263219   |     -      |     -     |   1.89   \n",
            "   1    |  1880   |   0.367734   |     -      |     -     |   1.90   \n",
            "   1    |  1900   |   0.327732   |     -      |     -     |   1.89   \n",
            "   1    |  1920   |   0.304968   |     -      |     -     |   1.90   \n",
            "   1    |  1940   |   0.368557   |     -      |     -     |   1.89   \n",
            "   1    |  1960   |   0.282308   |     -      |     -     |   1.95   \n",
            "   1    |  1980   |   0.414837   |     -      |     -     |   1.94   \n",
            "   1    |  2000   |   0.290868   |     -      |     -     |   1.89   \n",
            "   1    |  2020   |   0.319611   |     -      |     -     |   1.89   \n",
            "   1    |  2040   |   0.403601   |     -      |     -     |   1.90   \n",
            "   1    |  2060   |   0.314193   |     -      |     -     |   1.90   \n",
            "   1    |  2080   |   0.349871   |     -      |     -     |   1.90   \n",
            "   1    |  2100   |   0.387812   |     -      |     -     |   1.96   \n",
            "   1    |  2120   |   0.324863   |     -      |     -     |   1.93   \n",
            "   1    |  2140   |   0.339247   |     -      |     -     |   1.90   \n",
            "   1    |  2160   |   0.317168   |     -      |     -     |   1.89   \n",
            "   1    |  2180   |   0.405030   |     -      |     -     |   1.89   \n",
            "   1    |  2200   |   0.344776   |     -      |     -     |   1.89   \n",
            "   1    |  2220   |   0.328640   |     -      |     -     |   1.92   \n",
            "   1    |  2240   |   0.370260   |     -      |     -     |   1.95   \n",
            "   1    |  2260   |   0.354553   |     -      |     -     |   1.91   \n",
            "   1    |  2280   |   0.329445   |     -      |     -     |   1.90   \n",
            "   1    |  2300   |   0.396384   |     -      |     -     |   1.90   \n",
            "   1    |  2320   |   0.301319   |     -      |     -     |   1.89   \n",
            "   1    |  2340   |   0.310556   |     -      |     -     |   1.89   \n",
            "   1    |  2360   |   0.344495   |     -      |     -     |   1.93   \n",
            "   1    |  2380   |   0.325100   |     -      |     -     |   1.95   \n",
            "   1    |  2400   |   0.333753   |     -      |     -     |   1.90   \n",
            "   1    |  2420   |   0.345262   |     -      |     -     |   1.89   \n",
            "   1    |  2440   |   0.335096   |     -      |     -     |   1.89   \n",
            "   1    |  2460   |   0.340750   |     -      |     -     |   1.89   \n",
            "   1    |  2480   |   0.325790   |     -      |     -     |   1.90   \n",
            "   1    |  2500   |   0.308398   |     -      |     -     |   1.93   \n",
            "   1    |  2520   |   0.293115   |     -      |     -     |   1.96   \n",
            "   1    |  2540   |   0.352911   |     -      |     -     |   1.89   \n",
            "   1    |  2560   |   0.340049   |     -      |     -     |   1.90   \n",
            "   1    |  2580   |   0.357348   |     -      |     -     |   1.89   \n",
            "   1    |  2600   |   0.330995   |     -      |     -     |   1.90   \n",
            "   1    |  2620   |   0.318237   |     -      |     -     |   1.89   \n",
            "   1    |  2640   |   0.363133   |     -      |     -     |   1.95   \n",
            "   1    |  2660   |   0.273128   |     -      |     -     |   1.94   \n",
            "   1    |  2680   |   0.373636   |     -      |     -     |   1.90   \n",
            "   1    |  2700   |   0.333363   |     -      |     -     |   1.89   \n",
            "   1    |  2720   |   0.272935   |     -      |     -     |   1.89   \n",
            "   1    |  2740   |   0.284548   |     -      |     -     |   1.90   \n",
            "   1    |  2760   |   0.388759   |     -      |     -     |   1.89   \n",
            "   1    |  2780   |   0.339446   |     -      |     -     |   1.96   \n",
            "   1    |  2800   |   0.339398   |     -      |     -     |   1.96   \n",
            "   1    |  2820   |   0.331034   |     -      |     -     |   2.01   \n",
            "   1    |  2840   |   0.301509   |     -      |     -     |   1.89   \n",
            "   1    |  2860   |   0.319102   |     -      |     -     |   1.89   \n",
            "   1    |  2880   |   0.277837   |     -      |     -     |   1.89   \n",
            "   1    |  2900   |   0.347847   |     -      |     -     |   1.91   \n",
            "   1    |  2920   |   0.311115   |     -      |     -     |   1.96   \n",
            "   1    |  2940   |   0.314352   |     -      |     -     |   1.91   \n",
            "   1    |  2960   |   0.356992   |     -      |     -     |   1.90   \n",
            "   1    |  2980   |   0.370147   |     -      |     -     |   1.89   \n",
            "   1    |  3000   |   0.267738   |     -      |     -     |   1.89   \n",
            "   1    |  3020   |   0.333910   |     -      |     -     |   1.90   \n",
            "   1    |  3040   |   0.284482   |     -      |     -     |   1.92   \n",
            "   1    |  3060   |   0.325143   |     -      |     -     |   1.96   \n",
            "   1    |  3080   |   0.339823   |     -      |     -     |   1.90   \n",
            "   1    |  3100   |   0.393187   |     -      |     -     |   1.90   \n",
            "   1    |  3120   |   0.329388   |     -      |     -     |   1.89   \n",
            "   1    |  3140   |   0.315835   |     -      |     -     |   1.89   \n",
            "   1    |  3160   |   0.264261   |     -      |     -     |   1.89   \n",
            "   1    |  3180   |   0.342711   |     -      |     -     |   1.93   \n",
            "   1    |  3200   |   0.362575   |     -      |     -     |   1.96   \n",
            "   1    |  3220   |   0.298259   |     -      |     -     |   1.90   \n",
            "   1    |  3240   |   0.293628   |     -      |     -     |   1.89   \n",
            "   1    |  3260   |   0.368439   |     -      |     -     |   1.90   \n",
            "   1    |  3280   |   0.253721   |     -      |     -     |   1.89   \n",
            "   1    |  3300   |   0.297885   |     -      |     -     |   1.89   \n",
            "   1    |  3320   |   0.283551   |     -      |     -     |   1.95   \n",
            "   1    |  3340   |   0.280287   |     -      |     -     |   1.95   \n",
            "   1    |  3360   |   0.296267   |     -      |     -     |   1.89   \n",
            "   1    |  3380   |   0.322994   |     -      |     -     |   1.89   \n",
            "   1    |  3400   |   0.338897   |     -      |     -     |   1.89   \n",
            "   1    |  3420   |   0.265130   |     -      |     -     |   1.90   \n",
            "   1    |  3440   |   0.305316   |     -      |     -     |   1.89   \n",
            "   1    |  3460   |   0.385052   |     -      |     -     |   1.95   \n",
            "   1    |  3480   |   0.347731   |     -      |     -     |   1.94   \n",
            "   1    |  3500   |   0.333061   |     -      |     -     |   1.89   \n",
            "   1    |  3520   |   0.299274   |     -      |     -     |   1.89   \n",
            "   1    |  3540   |   0.337922   |     -      |     -     |   1.90   \n",
            "   1    |  3554   |   0.306647   |     -      |     -     |   1.31   \n",
            "----------------------------------------------------------------------\n",
            "   1    |    -    |   0.364823   |  0.307197  |   87.48   |  353.63  \n",
            "----------------------------------------------------------------------\n",
            "\n",
            "\n",
            " Epoch  |  Batch  |  Train Loss  |  Val Loss  |  Val Acc  |  Elapsed \n",
            "----------------------------------------------------------------------\n",
            "   2    |   20    |   0.236754   |     -      |     -     |   1.99   \n",
            "   2    |   40    |   0.229692   |     -      |     -     |   1.95   \n",
            "   2    |   60    |   0.271547   |     -      |     -     |   1.93   \n",
            "   2    |   80    |   0.256871   |     -      |     -     |   1.89   \n",
            "   2    |   100   |   0.272908   |     -      |     -     |   1.89   \n",
            "   2    |   120   |   0.297096   |     -      |     -     |   1.89   \n",
            "   2    |   140   |   0.283895   |     -      |     -     |   1.89   \n",
            "   2    |   160   |   0.298275   |     -      |     -     |   1.90   \n",
            "   2    |   180   |   0.244176   |     -      |     -     |   1.94   \n",
            "   2    |   200   |   0.272471   |     -      |     -     |   1.92   \n",
            "   2    |   220   |   0.309618   |     -      |     -     |   1.89   \n",
            "   2    |   240   |   0.293296   |     -      |     -     |   1.89   \n",
            "   2    |   260   |   0.307505   |     -      |     -     |   1.89   \n",
            "   2    |   280   |   0.207846   |     -      |     -     |   1.89   \n",
            "   2    |   300   |   0.281397   |     -      |     -     |   1.91   \n",
            "   2    |   320   |   0.303635   |     -      |     -     |   1.95   \n",
            "   2    |   340   |   0.322876   |     -      |     -     |   1.91   \n",
            "   2    |   360   |   0.270834   |     -      |     -     |   1.89   \n",
            "   2    |   380   |   0.228542   |     -      |     -     |   1.89   \n",
            "   2    |   400   |   0.262618   |     -      |     -     |   1.89   \n",
            "   2    |   420   |   0.321004   |     -      |     -     |   1.89   \n",
            "   2    |   440   |   0.301533   |     -      |     -     |   1.91   \n",
            "   2    |   460   |   0.309817   |     -      |     -     |   1.95   \n",
            "   2    |   480   |   0.206391   |     -      |     -     |   1.90   \n",
            "   2    |   500   |   0.317457   |     -      |     -     |   1.89   \n",
            "   2    |   520   |   0.215450   |     -      |     -     |   1.89   \n",
            "   2    |   540   |   0.249517   |     -      |     -     |   1.89   \n",
            "   2    |   560   |   0.279156   |     -      |     -     |   1.89   \n",
            "   2    |   580   |   0.271943   |     -      |     -     |   1.93   \n",
            "   2    |   600   |   0.276314   |     -      |     -     |   1.94   \n",
            "   2    |   620   |   0.237561   |     -      |     -     |   1.89   \n",
            "   2    |   640   |   0.231555   |     -      |     -     |   1.89   \n",
            "   2    |   660   |   0.257097   |     -      |     -     |   1.90   \n",
            "   2    |   680   |   0.177026   |     -      |     -     |   1.89   \n",
            "   2    |   700   |   0.257356   |     -      |     -     |   1.89   \n",
            "   2    |   720   |   0.263219   |     -      |     -     |   1.94   \n",
            "   2    |   740   |   0.273020   |     -      |     -     |   1.93   \n",
            "   2    |   760   |   0.235640   |     -      |     -     |   1.90   \n",
            "   2    |   780   |   0.231298   |     -      |     -     |   1.89   \n",
            "   2    |   800   |   0.221771   |     -      |     -     |   1.89   \n",
            "   2    |   820   |   0.187870   |     -      |     -     |   1.89   \n",
            "   2    |   840   |   0.238050   |     -      |     -     |   1.89   \n",
            "   2    |   860   |   0.241449   |     -      |     -     |   1.95   \n",
            "   2    |   880   |   0.324228   |     -      |     -     |   1.94   \n",
            "   2    |   900   |   0.296922   |     -      |     -     |   1.89   \n",
            "   2    |   920   |   0.247925   |     -      |     -     |   1.89   \n",
            "   2    |   940   |   0.305620   |     -      |     -     |   1.89   \n",
            "   2    |   960   |   0.225532   |     -      |     -     |   1.89   \n",
            "   2    |   980   |   0.190781   |     -      |     -     |   1.91   \n",
            "   2    |  1000   |   0.249700   |     -      |     -     |   1.95   \n",
            "   2    |  1020   |   0.281922   |     -      |     -     |   1.91   \n",
            "   2    |  1040   |   0.295842   |     -      |     -     |   1.89   \n",
            "   2    |  1060   |   0.315374   |     -      |     -     |   1.90   \n",
            "   2    |  1080   |   0.273934   |     -      |     -     |   1.89   \n",
            "   2    |  1100   |   0.255740   |     -      |     -     |   1.90   \n",
            "   2    |  1120   |   0.221382   |     -      |     -     |   1.92   \n",
            "   2    |  1140   |   0.223471   |     -      |     -     |   1.95   \n",
            "   2    |  1160   |   0.216105   |     -      |     -     |   1.90   \n",
            "   2    |  1180   |   0.214789   |     -      |     -     |   1.89   \n",
            "   2    |  1200   |   0.226009   |     -      |     -     |   1.89   \n",
            "   2    |  1220   |   0.158578   |     -      |     -     |   1.90   \n",
            "   2    |  1240   |   0.328908   |     -      |     -     |   1.89   \n",
            "   2    |  1260   |   0.239196   |     -      |     -     |   1.93   \n",
            "   2    |  1280   |   0.284778   |     -      |     -     |   1.95   \n",
            "   2    |  1300   |   0.258687   |     -      |     -     |   1.90   \n",
            "   2    |  1320   |   0.221858   |     -      |     -     |   1.89   \n",
            "   2    |  1340   |   0.200076   |     -      |     -     |   1.90   \n",
            "   2    |  1360   |   0.283947   |     -      |     -     |   1.89   \n",
            "   2    |  1380   |   0.200670   |     -      |     -     |   1.90   \n",
            "   2    |  1400   |   0.261303   |     -      |     -     |   1.95   \n",
            "   2    |  1420   |   0.256871   |     -      |     -     |   1.94   \n",
            "   2    |  1440   |   0.262832   |     -      |     -     |   1.90   \n",
            "   2    |  1460   |   0.237083   |     -      |     -     |   1.89   \n",
            "   2    |  1480   |   0.222057   |     -      |     -     |   1.89   \n",
            "   2    |  1500   |   0.296783   |     -      |     -     |   1.90   \n",
            "   2    |  1520   |   0.262465   |     -      |     -     |   1.89   \n",
            "   2    |  1540   |   0.273923   |     -      |     -     |   1.96   \n",
            "   2    |  1560   |   0.300178   |     -      |     -     |   1.93   \n",
            "   2    |  1580   |   0.248230   |     -      |     -     |   1.89   \n",
            "   2    |  1600   |   0.205605   |     -      |     -     |   1.89   \n",
            "   2    |  1620   |   0.275306   |     -      |     -     |   1.89   \n",
            "   2    |  1640   |   0.266353   |     -      |     -     |   1.89   \n",
            "   2    |  1660   |   0.296433   |     -      |     -     |   1.90   \n",
            "   2    |  1680   |   0.240953   |     -      |     -     |   1.96   \n",
            "   2    |  1700   |   0.277389   |     -      |     -     |   1.91   \n",
            "   2    |  1720   |   0.206111   |     -      |     -     |   1.89   \n",
            "   2    |  1740   |   0.230345   |     -      |     -     |   1.89   \n",
            "   2    |  1760   |   0.257434   |     -      |     -     |   1.89   \n",
            "   2    |  1780   |   0.218663   |     -      |     -     |   1.90   \n",
            "   2    |  1800   |   0.237123   |     -      |     -     |   1.91   \n",
            "   2    |  1820   |   0.231278   |     -      |     -     |   1.96   \n",
            "   2    |  1840   |   0.200093   |     -      |     -     |   1.91   \n",
            "   2    |  1860   |   0.309247   |     -      |     -     |   1.89   \n",
            "   2    |  1880   |   0.226488   |     -      |     -     |   1.89   \n",
            "   2    |  1900   |   0.309580   |     -      |     -     |   1.90   \n",
            "   2    |  1920   |   0.335312   |     -      |     -     |   1.89   \n",
            "   2    |  1940   |   0.216137   |     -      |     -     |   1.93   \n",
            "   2    |  1960   |   0.280775   |     -      |     -     |   1.95   \n",
            "   2    |  1980   |   0.194591   |     -      |     -     |   1.90   \n",
            "   2    |  2000   |   0.237523   |     -      |     -     |   1.89   \n",
            "   2    |  2020   |   0.254473   |     -      |     -     |   1.89   \n",
            "   2    |  2040   |   0.245127   |     -      |     -     |   1.89   \n",
            "   2    |  2060   |   0.286283   |     -      |     -     |   1.89   \n",
            "   2    |  2080   |   0.256630   |     -      |     -     |   1.93   \n",
            "   2    |  2100   |   0.252421   |     -      |     -     |   1.94   \n",
            "   2    |  2120   |   0.245314   |     -      |     -     |   1.90   \n",
            "   2    |  2140   |   0.235033   |     -      |     -     |   1.90   \n",
            "   2    |  2160   |   0.247919   |     -      |     -     |   1.89   \n",
            "   2    |  2180   |   0.330238   |     -      |     -     |   1.90   \n",
            "   2    |  2200   |   0.281166   |     -      |     -     |   1.90   \n",
            "   2    |  2220   |   0.197877   |     -      |     -     |   1.95   \n",
            "   2    |  2240   |   0.219501   |     -      |     -     |   1.93   \n",
            "   2    |  2260   |   0.215049   |     -      |     -     |   1.89   \n",
            "   2    |  2280   |   0.191271   |     -      |     -     |   1.89   \n",
            "   2    |  2300   |   0.284262   |     -      |     -     |   1.89   \n",
            "   2    |  2320   |   0.209667   |     -      |     -     |   1.89   \n",
            "   2    |  2340   |   0.265707   |     -      |     -     |   1.90   \n",
            "   2    |  2360   |   0.347483   |     -      |     -     |   1.94   \n",
            "   2    |  2380   |   0.238681   |     -      |     -     |   1.91   \n",
            "   2    |  2400   |   0.260890   |     -      |     -     |   1.89   \n",
            "   2    |  2420   |   0.277064   |     -      |     -     |   1.89   \n",
            "   2    |  2440   |   0.206969   |     -      |     -     |   1.89   \n",
            "   2    |  2460   |   0.258060   |     -      |     -     |   1.89   \n",
            "   2    |  2480   |   0.292892   |     -      |     -     |   1.92   \n",
            "   2    |  2500   |   0.214707   |     -      |     -     |   1.95   \n",
            "   2    |  2520   |   0.201882   |     -      |     -     |   1.90   \n",
            "   2    |  2540   |   0.244553   |     -      |     -     |   1.89   \n",
            "   2    |  2560   |   0.230585   |     -      |     -     |   1.89   \n",
            "   2    |  2580   |   0.310857   |     -      |     -     |   1.90   \n",
            "   2    |  2600   |   0.178362   |     -      |     -     |   1.90   \n",
            "   2    |  2620   |   0.233660   |     -      |     -     |   1.92   \n",
            "   2    |  2640   |   0.154000   |     -      |     -     |   1.97   \n",
            "   2    |  2660   |   0.228635   |     -      |     -     |   1.90   \n",
            "   2    |  2680   |   0.271586   |     -      |     -     |   1.89   \n",
            "   2    |  2700   |   0.254556   |     -      |     -     |   1.89   \n",
            "   2    |  2720   |   0.247653   |     -      |     -     |   1.89   \n",
            "   2    |  2740   |   0.295774   |     -      |     -     |   1.90   \n",
            "   2    |  2760   |   0.222299   |     -      |     -     |   1.93   \n",
            "   2    |  2780   |   0.244926   |     -      |     -     |   1.95   \n",
            "   2    |  2800   |   0.263202   |     -      |     -     |   1.90   \n",
            "   2    |  2820   |   0.313347   |     -      |     -     |   1.90   \n",
            "   2    |  2840   |   0.196252   |     -      |     -     |   1.90   \n",
            "   2    |  2860   |   0.250761   |     -      |     -     |   1.89   \n",
            "   2    |  2880   |   0.249412   |     -      |     -     |   1.90   \n",
            "   2    |  2900   |   0.251743   |     -      |     -     |   1.95   \n",
            "   2    |  2920   |   0.282639   |     -      |     -     |   1.94   \n",
            "   2    |  2940   |   0.278821   |     -      |     -     |   1.89   \n",
            "   2    |  2960   |   0.157691   |     -      |     -     |   1.89   \n",
            "   2    |  2980   |   0.193972   |     -      |     -     |   1.90   \n",
            "   2    |  3000   |   0.291504   |     -      |     -     |   1.89   \n",
            "   2    |  3020   |   0.245112   |     -      |     -     |   1.91   \n",
            "   2    |  3040   |   0.180891   |     -      |     -     |   1.96   \n",
            "   2    |  3060   |   0.274041   |     -      |     -     |   1.93   \n",
            "   2    |  3080   |   0.198025   |     -      |     -     |   1.89   \n",
            "   2    |  3100   |   0.238358   |     -      |     -     |   1.90   \n",
            "   2    |  3120   |   0.238155   |     -      |     -     |   1.90   \n",
            "   2    |  3140   |   0.276636   |     -      |     -     |   1.89   \n",
            "   2    |  3160   |   0.251651   |     -      |     -     |   1.91   \n",
            "   2    |  3180   |   0.329748   |     -      |     -     |   1.96   \n",
            "   2    |  3200   |   0.316064   |     -      |     -     |   1.91   \n",
            "   2    |  3220   |   0.291428   |     -      |     -     |   1.89   \n",
            "   2    |  3240   |   0.259960   |     -      |     -     |   1.89   \n",
            "   2    |  3260   |   0.254514   |     -      |     -     |   1.89   \n",
            "   2    |  3280   |   0.212780   |     -      |     -     |   1.89   \n",
            "   2    |  3300   |   0.207647   |     -      |     -     |   1.92   \n",
            "   2    |  3320   |   0.243985   |     -      |     -     |   1.95   \n",
            "   2    |  3340   |   0.295834   |     -      |     -     |   1.90   \n",
            "   2    |  3360   |   0.295591   |     -      |     -     |   1.89   \n",
            "   2    |  3380   |   0.228823   |     -      |     -     |   1.89   \n",
            "   2    |  3400   |   0.196881   |     -      |     -     |   1.90   \n",
            "   2    |  3420   |   0.259587   |     -      |     -     |   1.89   \n",
            "   2    |  3440   |   0.205120   |     -      |     -     |   1.93   \n",
            "   2    |  3460   |   0.237537   |     -      |     -     |   1.96   \n",
            "   2    |  3480   |   0.244411   |     -      |     -     |   1.90   \n",
            "   2    |  3500   |   0.267668   |     -      |     -     |   1.89   \n",
            "   2    |  3520   |   0.260982   |     -      |     -     |   1.90   \n",
            "   2    |  3540   |   0.257770   |     -      |     -     |   1.89   \n",
            "   2    |  3554   |   0.266092   |     -      |     -     |   1.31   \n",
            "----------------------------------------------------------------------\n",
            "   2    |    -    |   0.253167   |  0.315469  |   88.26   |  351.91  \n",
            "----------------------------------------------------------------------\n",
            "\n",
            "\n",
            "Training complete!\n"
          ]
        }
      ]
    },
    {
      "cell_type": "code",
      "source": [
        "import torch.nn.functional as F\n",
        "\n",
        "def bert_predict(model, test_dataloader):\n",
        "    \"\"\"Perform a forward pass on the trained BERT model to predict probabilities\n",
        "    on the test set.\n",
        "    \"\"\"\n",
        "    # Put the model into the evaluation mode. The dropout layers are disabled during\n",
        "    # the test time.\n",
        "    model.eval()\n",
        "\n",
        "    all_logits = []\n",
        "\n",
        "    # For each batch in our test set...\n",
        "    for batch in test_dataloader:\n",
        "        # Load batch to GPU\n",
        "        b_input_ids, b_attn_mask = tuple(t.to(device) for t in batch)[:2]\n",
        "\n",
        "        # Compute logits\n",
        "        with torch.no_grad():\n",
        "            logits = model(b_input_ids, b_attn_mask)\n",
        "        all_logits.append(logits)\n",
        "    \n",
        "    # Concatenate logits from each batch\n",
        "    all_logits = torch.cat(all_logits, dim=0)\n",
        "\n",
        "    # Apply softmax to calculate probabilities\n",
        "    probs = F.softmax(all_logits, dim=1).cpu().numpy()\n",
        "\n",
        "    return probs"
      ],
      "metadata": {
        "id": "qmptKUGpI5Xm"
      },
      "execution_count": null,
      "outputs": []
    },
    {
      "cell_type": "code",
      "source": [
        "def evaluate_roc(probs, y_true, model_name, dataset_name, test_dataset_name):\n",
        "    \"\"\"\n",
        "    - Print AUC and accuracy on the test set\n",
        "    - Plot ROC\n",
        "    @params    probs (np.array): an array of predicted probabilities with shape (len(y_true), 2)\n",
        "    @params    y_true (np.array): an array of the true values with shape (len(y_true),)\n",
        "    \"\"\"\n",
        "    preds = probs[:, 1]\n",
        "    fpr, tpr, threshold = roc_curve(y_true, preds)\n",
        "    roc_auc = auc(fpr, tpr)\n",
        "    print(f'AUC: {roc_auc:.4f}')\n",
        "       \n",
        "    # Get accuracy over the test set\n",
        "    y_pred = np.where(preds >= 0.5, 1, 0)\n",
        "    accuracy = accuracy_score(y_true, y_pred)\n",
        "    print(f'Accuracy: {accuracy*100:.2f}%')\n",
        "    \n",
        "    # Plot ROC AUC\n",
        "    plt.title(f\" ROC of {model_name}  trained on {dataset_name} dataset & evaluated on the {test_dataset_name} dataset \")\n",
        "    plt.plot(fpr, tpr, 'b', label = 'AUC = %0.2f' % roc_auc)\n",
        "    plt.legend(loc = 'lower right')\n",
        "    plt.plot([0, 1], [0, 1],'r--')\n",
        "    plt.xlim([0, 1])\n",
        "    plt.ylim([0, 1])\n",
        "    plt.ylabel('True Positive Rate')\n",
        "    plt.xlabel('False Positive Rate')\n",
        "    plt.show()\n"
      ],
      "metadata": {
        "id": "dTrVP3olJCX7"
      },
      "execution_count": null,
      "outputs": []
    },
    {
      "cell_type": "code",
      "source": [
        "# Compute predicted probabilities on the validation set\n",
        "probs = bert_predict(bert_classifier, val_dataloader)\n",
        "\n",
        "# Evaluate the Bert classifier\n",
        "evaluate_roc(probs, y_val, \"BERT-mini\", \"arabic-sentiment-twitter-corpus\", \"arabic-sentiment-twitter-corpus validation\")"
      ],
      "metadata": {
        "colab": {
          "base_uri": "https://localhost:8080/",
          "height": 322
        },
        "id": "3onM-kshJM2Z",
        "outputId": "d05f9238-9e7a-4dfa-c7f1-f1730f7af61c"
      },
      "execution_count": null,
      "outputs": [
        {
          "output_type": "error",
          "ename": "NameError",
          "evalue": "ignored",
          "traceback": [
            "\u001b[0;31m---------------------------------------------------------------------------\u001b[0m",
            "\u001b[0;31mNameError\u001b[0m                                 Traceback (most recent call last)",
            "\u001b[0;32m<ipython-input-53-7e886c6518e8>\u001b[0m in \u001b[0;36m<module>\u001b[0;34m\u001b[0m\n\u001b[1;32m      3\u001b[0m \u001b[0;34m\u001b[0m\u001b[0m\n\u001b[1;32m      4\u001b[0m \u001b[0;31m# Evaluate the Bert classifier\u001b[0m\u001b[0;34m\u001b[0m\u001b[0;34m\u001b[0m\u001b[0m\n\u001b[0;32m----> 5\u001b[0;31m \u001b[0mevaluate_roc\u001b[0m\u001b[0;34m(\u001b[0m\u001b[0mprobs\u001b[0m\u001b[0;34m,\u001b[0m \u001b[0my_val\u001b[0m\u001b[0;34m,\u001b[0m \u001b[0;34m\"BERT-mini\"\u001b[0m\u001b[0;34m,\u001b[0m \u001b[0;34m\"arabic-sentiment-twitter-corpus\"\u001b[0m\u001b[0;34m,\u001b[0m \u001b[0;34m\"arabic-sentiment-twitter-corpus validation\"\u001b[0m\u001b[0;34m)\u001b[0m\u001b[0;34m\u001b[0m\u001b[0;34m\u001b[0m\u001b[0m\n\u001b[0m",
            "\u001b[0;32m<ipython-input-52-ea534c975280>\u001b[0m in \u001b[0;36mevaluate_roc\u001b[0;34m(probs, y_true, model_name, dataset_name, test_dataset_name)\u001b[0m\n\u001b[1;32m      8\u001b[0m     \u001b[0mpreds\u001b[0m \u001b[0;34m=\u001b[0m \u001b[0mprobs\u001b[0m\u001b[0;34m[\u001b[0m\u001b[0;34m:\u001b[0m\u001b[0;34m,\u001b[0m \u001b[0;36m1\u001b[0m\u001b[0;34m]\u001b[0m\u001b[0;34m\u001b[0m\u001b[0;34m\u001b[0m\u001b[0m\n\u001b[1;32m      9\u001b[0m     \u001b[0mfpr\u001b[0m\u001b[0;34m,\u001b[0m \u001b[0mtpr\u001b[0m\u001b[0;34m,\u001b[0m \u001b[0mthreshold\u001b[0m \u001b[0;34m=\u001b[0m \u001b[0mroc_curve\u001b[0m\u001b[0;34m(\u001b[0m\u001b[0my_true\u001b[0m\u001b[0;34m,\u001b[0m \u001b[0mpreds\u001b[0m\u001b[0;34m)\u001b[0m\u001b[0;34m\u001b[0m\u001b[0;34m\u001b[0m\u001b[0m\n\u001b[0;32m---> 10\u001b[0;31m     \u001b[0mroc_auc\u001b[0m \u001b[0;34m=\u001b[0m \u001b[0mauc\u001b[0m\u001b[0;34m(\u001b[0m\u001b[0mfpr\u001b[0m\u001b[0;34m,\u001b[0m \u001b[0mtpr\u001b[0m\u001b[0;34m)\u001b[0m\u001b[0;34m\u001b[0m\u001b[0;34m\u001b[0m\u001b[0m\n\u001b[0m\u001b[1;32m     11\u001b[0m     \u001b[0mprint\u001b[0m\u001b[0;34m(\u001b[0m\u001b[0;34mf'AUC: {roc_auc:.4f}'\u001b[0m\u001b[0;34m)\u001b[0m\u001b[0;34m\u001b[0m\u001b[0;34m\u001b[0m\u001b[0m\n\u001b[1;32m     12\u001b[0m \u001b[0;34m\u001b[0m\u001b[0m\n",
            "\u001b[0;31mNameError\u001b[0m: name 'auc' is not defined"
          ]
        }
      ]
    }
  ]
}